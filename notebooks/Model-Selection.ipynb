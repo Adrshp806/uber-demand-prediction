{
 "cells": [
  {
   "cell_type": "code",
   "execution_count": null,
   "id": "8687b061-828a-4bce-9037-5af24dae03f6",
   "metadata": {},
   "outputs": [
    {
     "name": "stdout",
     "output_type": "stream",
     "text": [
      "Defaulting to user installation because normal site-packages is not writeable\n",
      "Requirement already satisfied: xgboost in c:\\users\\adiip\\appdata\\roaming\\python\\python312\\site-packages (2.1.4)\n",
      "Requirement already satisfied: numpy in c:\\programdata\\anaconda3\\lib\\site-packages (from xgboost) (1.26.4)\n",
      "Requirement already satisfied: scipy in c:\\programdata\\anaconda3\\lib\\site-packages (from xgboost) (1.13.1)\n"
     ]
    }
   ],
   "source": [
    "import pandas as pd\n",
    "import numpy as np\n",
    "%pip install xgboost\n",
    "\n",
    "from sklearn.preprocessing import OneHotEncoder\n",
    "from sklearn.compose import ColumnTransformer\n",
    "from sklearn.linear_model import LinearRegression, Ridge\n",
    "from sklearn.pipeline import Pipeline\n",
    "from sklearn.metrics import mean_absolute_percentage_error\n",
    "from sklearn.svm import SVR\n",
    "\n",
    "from sklearn.ensemble import RandomForestRegressor, GradientBoostingRegressor\n",
    "from xgboost import XGBRegressor"
   ]
  },
  {
   "cell_type": "code",
   "execution_count": 20,
   "id": "23d5d0dd-534f-4610-a0b8-d3dad4320f50",
   "metadata": {},
   "outputs": [
    {
     "data": {
      "text/html": [
       "<div>\n",
       "<style scoped>\n",
       "    .dataframe tbody tr th:only-of-type {\n",
       "        vertical-align: middle;\n",
       "    }\n",
       "\n",
       "    .dataframe tbody tr th {\n",
       "        vertical-align: top;\n",
       "    }\n",
       "\n",
       "    .dataframe thead th {\n",
       "        text-align: right;\n",
       "    }\n",
       "</style>\n",
       "<table border=\"1\" class=\"dataframe\">\n",
       "  <thead>\n",
       "    <tr style=\"text-align: right;\">\n",
       "      <th></th>\n",
       "      <th>lag_1</th>\n",
       "      <th>lag_2</th>\n",
       "      <th>lag_3</th>\n",
       "      <th>lag_4</th>\n",
       "      <th>region</th>\n",
       "      <th>total_pickups</th>\n",
       "      <th>avg_pickups</th>\n",
       "      <th>day_of_week</th>\n",
       "    </tr>\n",
       "    <tr>\n",
       "      <th>tpep_pickup_datetime</th>\n",
       "      <th></th>\n",
       "      <th></th>\n",
       "      <th></th>\n",
       "      <th></th>\n",
       "      <th></th>\n",
       "      <th></th>\n",
       "      <th></th>\n",
       "      <th></th>\n",
       "    </tr>\n",
       "  </thead>\n",
       "  <tbody>\n",
       "    <tr>\n",
       "      <th>2016-01-01 01:00:00</th>\n",
       "      <td>160.0</td>\n",
       "      <td>149.0</td>\n",
       "      <td>120.0</td>\n",
       "      <td>58.0</td>\n",
       "      <td>0</td>\n",
       "      <td>187</td>\n",
       "      <td>161.0</td>\n",
       "      <td>4</td>\n",
       "    </tr>\n",
       "    <tr>\n",
       "      <th>2016-01-01 01:15:00</th>\n",
       "      <td>187.0</td>\n",
       "      <td>160.0</td>\n",
       "      <td>149.0</td>\n",
       "      <td>120.0</td>\n",
       "      <td>0</td>\n",
       "      <td>194</td>\n",
       "      <td>175.0</td>\n",
       "      <td>4</td>\n",
       "    </tr>\n",
       "    <tr>\n",
       "      <th>2016-01-01 01:30:00</th>\n",
       "      <td>194.0</td>\n",
       "      <td>187.0</td>\n",
       "      <td>160.0</td>\n",
       "      <td>149.0</td>\n",
       "      <td>0</td>\n",
       "      <td>180</td>\n",
       "      <td>177.0</td>\n",
       "      <td>4</td>\n",
       "    </tr>\n",
       "    <tr>\n",
       "      <th>2016-01-01 01:45:00</th>\n",
       "      <td>180.0</td>\n",
       "      <td>194.0</td>\n",
       "      <td>187.0</td>\n",
       "      <td>160.0</td>\n",
       "      <td>0</td>\n",
       "      <td>197</td>\n",
       "      <td>185.0</td>\n",
       "      <td>4</td>\n",
       "    </tr>\n",
       "    <tr>\n",
       "      <th>2016-01-01 02:00:00</th>\n",
       "      <td>197.0</td>\n",
       "      <td>180.0</td>\n",
       "      <td>194.0</td>\n",
       "      <td>187.0</td>\n",
       "      <td>0</td>\n",
       "      <td>185</td>\n",
       "      <td>185.0</td>\n",
       "      <td>4</td>\n",
       "    </tr>\n",
       "    <tr>\n",
       "      <th>...</th>\n",
       "      <td>...</td>\n",
       "      <td>...</td>\n",
       "      <td>...</td>\n",
       "      <td>...</td>\n",
       "      <td>...</td>\n",
       "      <td>...</td>\n",
       "      <td>...</td>\n",
       "      <td>...</td>\n",
       "    </tr>\n",
       "    <tr>\n",
       "      <th>2016-02-29 22:45:00</th>\n",
       "      <td>15.0</td>\n",
       "      <td>9.0</td>\n",
       "      <td>11.0</td>\n",
       "      <td>11.0</td>\n",
       "      <td>29</td>\n",
       "      <td>12</td>\n",
       "      <td>12.0</td>\n",
       "      <td>0</td>\n",
       "    </tr>\n",
       "    <tr>\n",
       "      <th>2016-02-29 23:00:00</th>\n",
       "      <td>12.0</td>\n",
       "      <td>15.0</td>\n",
       "      <td>9.0</td>\n",
       "      <td>11.0</td>\n",
       "      <td>29</td>\n",
       "      <td>17</td>\n",
       "      <td>14.0</td>\n",
       "      <td>0</td>\n",
       "    </tr>\n",
       "    <tr>\n",
       "      <th>2016-02-29 23:15:00</th>\n",
       "      <td>17.0</td>\n",
       "      <td>12.0</td>\n",
       "      <td>15.0</td>\n",
       "      <td>9.0</td>\n",
       "      <td>29</td>\n",
       "      <td>15</td>\n",
       "      <td>14.0</td>\n",
       "      <td>0</td>\n",
       "    </tr>\n",
       "    <tr>\n",
       "      <th>2016-02-29 23:30:00</th>\n",
       "      <td>15.0</td>\n",
       "      <td>17.0</td>\n",
       "      <td>12.0</td>\n",
       "      <td>15.0</td>\n",
       "      <td>29</td>\n",
       "      <td>15</td>\n",
       "      <td>15.0</td>\n",
       "      <td>0</td>\n",
       "    </tr>\n",
       "    <tr>\n",
       "      <th>2016-02-29 23:45:00</th>\n",
       "      <td>15.0</td>\n",
       "      <td>15.0</td>\n",
       "      <td>17.0</td>\n",
       "      <td>12.0</td>\n",
       "      <td>29</td>\n",
       "      <td>12</td>\n",
       "      <td>14.0</td>\n",
       "      <td>0</td>\n",
       "    </tr>\n",
       "  </tbody>\n",
       "</table>\n",
       "<p>172680 rows × 8 columns</p>\n",
       "</div>"
      ],
      "text/plain": [
       "                      lag_1  lag_2  lag_3  lag_4  region  total_pickups  \\\n",
       "tpep_pickup_datetime                                                      \n",
       "2016-01-01 01:00:00   160.0  149.0  120.0   58.0       0            187   \n",
       "2016-01-01 01:15:00   187.0  160.0  149.0  120.0       0            194   \n",
       "2016-01-01 01:30:00   194.0  187.0  160.0  149.0       0            180   \n",
       "2016-01-01 01:45:00   180.0  194.0  187.0  160.0       0            197   \n",
       "2016-01-01 02:00:00   197.0  180.0  194.0  187.0       0            185   \n",
       "...                     ...    ...    ...    ...     ...            ...   \n",
       "2016-02-29 22:45:00    15.0    9.0   11.0   11.0      29             12   \n",
       "2016-02-29 23:00:00    12.0   15.0    9.0   11.0      29             17   \n",
       "2016-02-29 23:15:00    17.0   12.0   15.0    9.0      29             15   \n",
       "2016-02-29 23:30:00    15.0   17.0   12.0   15.0      29             15   \n",
       "2016-02-29 23:45:00    15.0   15.0   17.0   12.0      29             12   \n",
       "\n",
       "                      avg_pickups  day_of_week  \n",
       "tpep_pickup_datetime                            \n",
       "2016-01-01 01:00:00         161.0            4  \n",
       "2016-01-01 01:15:00         175.0            4  \n",
       "2016-01-01 01:30:00         177.0            4  \n",
       "2016-01-01 01:45:00         185.0            4  \n",
       "2016-01-01 02:00:00         185.0            4  \n",
       "...                           ...          ...  \n",
       "2016-02-29 22:45:00          12.0            0  \n",
       "2016-02-29 23:00:00          14.0            0  \n",
       "2016-02-29 23:15:00          14.0            0  \n",
       "2016-02-29 23:30:00          15.0            0  \n",
       "2016-02-29 23:45:00          14.0            0  \n",
       "\n",
       "[172680 rows x 8 columns]"
      ]
     },
     "execution_count": 20,
     "metadata": {},
     "output_type": "execute_result"
    }
   ],
   "source": [
    "# load the training and test data\n",
    "\n",
    "train_data_path = \"../data/processed/train.csv\"\n",
    "test_data_path = \"../data/processed/test.csv\"\n",
    "\n",
    "train_df = pd.read_csv(train_data_path, parse_dates=[\"tpep_pickup_datetime\"]).set_index(\"tpep_pickup_datetime\")\n",
    "\n",
    "test_df = pd.read_csv(test_data_path, parse_dates=[\"tpep_pickup_datetime\"]).set_index(\"tpep_pickup_datetime\")\n",
    "\n",
    "train_df"
   ]
  },
  {
   "cell_type": "code",
   "execution_count": 21,
   "id": "2f1e4ba9-0aa9-4696-a0c2-a75a1cc9f4a5",
   "metadata": {},
   "outputs": [
    {
     "data": {
      "text/plain": [
       "lag_1            0\n",
       "lag_2            0\n",
       "lag_3            0\n",
       "lag_4            0\n",
       "region           0\n",
       "total_pickups    0\n",
       "avg_pickups      0\n",
       "day_of_week      0\n",
       "dtype: int64"
      ]
     },
     "execution_count": 21,
     "metadata": {},
     "output_type": "execute_result"
    }
   ],
   "source": [
    "# missing value in training data\n",
    "\n",
    "train_df.isna().sum()"
   ]
  },
  {
   "cell_type": "code",
   "execution_count": 22,
   "id": "5aa0cde0-34d7-49b4-8a7e-b981d1ba0e4b",
   "metadata": {},
   "outputs": [
    {
     "data": {
      "text/plain": [
       "lag_1            0\n",
       "lag_2            0\n",
       "lag_3            0\n",
       "lag_4            0\n",
       "region           0\n",
       "total_pickups    0\n",
       "avg_pickups      0\n",
       "day_of_week      0\n",
       "dtype: int64"
      ]
     },
     "execution_count": 22,
     "metadata": {},
     "output_type": "execute_result"
    }
   ],
   "source": [
    "# missing values in the test data\n",
    "\n",
    "test_df.isna().sum()"
   ]
  },
  {
   "cell_type": "code",
   "execution_count": 23,
   "id": "858a8af9-7618-4464-b418-7227f2a4dedd",
   "metadata": {},
   "outputs": [],
   "source": [
    "# make X_train and y_train\n",
    "\n",
    "X_train = train_df.drop(columns=[\"total_pickups\"])\n",
    "\n",
    "y_train = train_df[\"total_pickups\"]"
   ]
  },
  {
   "cell_type": "code",
   "execution_count": 24,
   "id": "6c7fb655-8d46-4500-b1c3-dfe4d05dccf0",
   "metadata": {},
   "outputs": [
    {
     "data": {
      "text/html": [
       "<div>\n",
       "<style scoped>\n",
       "    .dataframe tbody tr th:only-of-type {\n",
       "        vertical-align: middle;\n",
       "    }\n",
       "\n",
       "    .dataframe tbody tr th {\n",
       "        vertical-align: top;\n",
       "    }\n",
       "\n",
       "    .dataframe thead th {\n",
       "        text-align: right;\n",
       "    }\n",
       "</style>\n",
       "<table border=\"1\" class=\"dataframe\">\n",
       "  <thead>\n",
       "    <tr style=\"text-align: right;\">\n",
       "      <th></th>\n",
       "      <th>lag_1</th>\n",
       "      <th>lag_2</th>\n",
       "      <th>lag_3</th>\n",
       "      <th>lag_4</th>\n",
       "      <th>region</th>\n",
       "      <th>avg_pickups</th>\n",
       "      <th>day_of_week</th>\n",
       "    </tr>\n",
       "    <tr>\n",
       "      <th>tpep_pickup_datetime</th>\n",
       "      <th></th>\n",
       "      <th></th>\n",
       "      <th></th>\n",
       "      <th></th>\n",
       "      <th></th>\n",
       "      <th></th>\n",
       "      <th></th>\n",
       "    </tr>\n",
       "  </thead>\n",
       "  <tbody>\n",
       "    <tr>\n",
       "      <th>2016-01-01 01:00:00</th>\n",
       "      <td>160.0</td>\n",
       "      <td>149.0</td>\n",
       "      <td>120.0</td>\n",
       "      <td>58.0</td>\n",
       "      <td>0</td>\n",
       "      <td>161.0</td>\n",
       "      <td>4</td>\n",
       "    </tr>\n",
       "    <tr>\n",
       "      <th>2016-01-01 01:15:00</th>\n",
       "      <td>187.0</td>\n",
       "      <td>160.0</td>\n",
       "      <td>149.0</td>\n",
       "      <td>120.0</td>\n",
       "      <td>0</td>\n",
       "      <td>175.0</td>\n",
       "      <td>4</td>\n",
       "    </tr>\n",
       "    <tr>\n",
       "      <th>2016-01-01 01:30:00</th>\n",
       "      <td>194.0</td>\n",
       "      <td>187.0</td>\n",
       "      <td>160.0</td>\n",
       "      <td>149.0</td>\n",
       "      <td>0</td>\n",
       "      <td>177.0</td>\n",
       "      <td>4</td>\n",
       "    </tr>\n",
       "    <tr>\n",
       "      <th>2016-01-01 01:45:00</th>\n",
       "      <td>180.0</td>\n",
       "      <td>194.0</td>\n",
       "      <td>187.0</td>\n",
       "      <td>160.0</td>\n",
       "      <td>0</td>\n",
       "      <td>185.0</td>\n",
       "      <td>4</td>\n",
       "    </tr>\n",
       "    <tr>\n",
       "      <th>2016-01-01 02:00:00</th>\n",
       "      <td>197.0</td>\n",
       "      <td>180.0</td>\n",
       "      <td>194.0</td>\n",
       "      <td>187.0</td>\n",
       "      <td>0</td>\n",
       "      <td>185.0</td>\n",
       "      <td>4</td>\n",
       "    </tr>\n",
       "  </tbody>\n",
       "</table>\n",
       "</div>"
      ],
      "text/plain": [
       "                      lag_1  lag_2  lag_3  lag_4  region  avg_pickups  \\\n",
       "tpep_pickup_datetime                                                    \n",
       "2016-01-01 01:00:00   160.0  149.0  120.0   58.0       0        161.0   \n",
       "2016-01-01 01:15:00   187.0  160.0  149.0  120.0       0        175.0   \n",
       "2016-01-01 01:30:00   194.0  187.0  160.0  149.0       0        177.0   \n",
       "2016-01-01 01:45:00   180.0  194.0  187.0  160.0       0        185.0   \n",
       "2016-01-01 02:00:00   197.0  180.0  194.0  187.0       0        185.0   \n",
       "\n",
       "                      day_of_week  \n",
       "tpep_pickup_datetime               \n",
       "2016-01-01 01:00:00             4  \n",
       "2016-01-01 01:15:00             4  \n",
       "2016-01-01 01:30:00             4  \n",
       "2016-01-01 01:45:00             4  \n",
       "2016-01-01 02:00:00             4  "
      ]
     },
     "execution_count": 24,
     "metadata": {},
     "output_type": "execute_result"
    }
   ],
   "source": [
    "X_train.head()"
   ]
  },
  {
   "cell_type": "code",
   "execution_count": 25,
   "id": "b9ec8262-9791-4289-a8a6-7f852bc6b2a0",
   "metadata": {},
   "outputs": [],
   "source": [
    "# make X_test and y_test\n",
    "\n",
    "X_test = test_df.drop(columns=[\"total_pickups\"])\n",
    "\n",
    "y_test = test_df[\"total_pickups\"]"
   ]
  },
  {
   "cell_type": "code",
   "execution_count": 26,
   "id": "5e9027a1-9ab2-4f08-9701-76e105706d13",
   "metadata": {},
   "outputs": [
    {
     "data": {
      "text/html": [
       "<div>\n",
       "<style scoped>\n",
       "    .dataframe tbody tr th:only-of-type {\n",
       "        vertical-align: middle;\n",
       "    }\n",
       "\n",
       "    .dataframe tbody tr th {\n",
       "        vertical-align: top;\n",
       "    }\n",
       "\n",
       "    .dataframe thead th {\n",
       "        text-align: right;\n",
       "    }\n",
       "</style>\n",
       "<table border=\"1\" class=\"dataframe\">\n",
       "  <thead>\n",
       "    <tr style=\"text-align: right;\">\n",
       "      <th></th>\n",
       "      <th>lag_1</th>\n",
       "      <th>lag_2</th>\n",
       "      <th>lag_3</th>\n",
       "      <th>lag_4</th>\n",
       "      <th>region</th>\n",
       "      <th>avg_pickups</th>\n",
       "      <th>day_of_week</th>\n",
       "    </tr>\n",
       "    <tr>\n",
       "      <th>tpep_pickup_datetime</th>\n",
       "      <th></th>\n",
       "      <th></th>\n",
       "      <th></th>\n",
       "      <th></th>\n",
       "      <th></th>\n",
       "      <th></th>\n",
       "      <th></th>\n",
       "    </tr>\n",
       "  </thead>\n",
       "  <tbody>\n",
       "    <tr>\n",
       "      <th>2016-03-01 00:00:00</th>\n",
       "      <td>36.0</td>\n",
       "      <td>44.0</td>\n",
       "      <td>31.0</td>\n",
       "      <td>29.0</td>\n",
       "      <td>0</td>\n",
       "      <td>39.0</td>\n",
       "      <td>1</td>\n",
       "    </tr>\n",
       "    <tr>\n",
       "      <th>2016-03-01 00:15:00</th>\n",
       "      <td>41.0</td>\n",
       "      <td>36.0</td>\n",
       "      <td>44.0</td>\n",
       "      <td>31.0</td>\n",
       "      <td>0</td>\n",
       "      <td>37.0</td>\n",
       "      <td>1</td>\n",
       "    </tr>\n",
       "    <tr>\n",
       "      <th>2016-03-01 00:30:00</th>\n",
       "      <td>35.0</td>\n",
       "      <td>41.0</td>\n",
       "      <td>36.0</td>\n",
       "      <td>44.0</td>\n",
       "      <td>0</td>\n",
       "      <td>41.0</td>\n",
       "      <td>1</td>\n",
       "    </tr>\n",
       "    <tr>\n",
       "      <th>2016-03-01 00:45:00</th>\n",
       "      <td>47.0</td>\n",
       "      <td>35.0</td>\n",
       "      <td>41.0</td>\n",
       "      <td>36.0</td>\n",
       "      <td>0</td>\n",
       "      <td>38.0</td>\n",
       "      <td>1</td>\n",
       "    </tr>\n",
       "    <tr>\n",
       "      <th>2016-03-01 01:00:00</th>\n",
       "      <td>34.0</td>\n",
       "      <td>47.0</td>\n",
       "      <td>35.0</td>\n",
       "      <td>41.0</td>\n",
       "      <td>0</td>\n",
       "      <td>35.0</td>\n",
       "      <td>1</td>\n",
       "    </tr>\n",
       "  </tbody>\n",
       "</table>\n",
       "</div>"
      ],
      "text/plain": [
       "                      lag_1  lag_2  lag_3  lag_4  region  avg_pickups  \\\n",
       "tpep_pickup_datetime                                                    \n",
       "2016-03-01 00:00:00    36.0   44.0   31.0   29.0       0         39.0   \n",
       "2016-03-01 00:15:00    41.0   36.0   44.0   31.0       0         37.0   \n",
       "2016-03-01 00:30:00    35.0   41.0   36.0   44.0       0         41.0   \n",
       "2016-03-01 00:45:00    47.0   35.0   41.0   36.0       0         38.0   \n",
       "2016-03-01 01:00:00    34.0   47.0   35.0   41.0       0         35.0   \n",
       "\n",
       "                      day_of_week  \n",
       "tpep_pickup_datetime               \n",
       "2016-03-01 00:00:00             1  \n",
       "2016-03-01 00:15:00             1  \n",
       "2016-03-01 00:30:00             1  \n",
       "2016-03-01 00:45:00             1  \n",
       "2016-03-01 01:00:00             1  "
      ]
     },
     "execution_count": 26,
     "metadata": {},
     "output_type": "execute_result"
    }
   ],
   "source": [
    "X_test.head()"
   ]
  },
  {
   "cell_type": "code",
   "execution_count": 27,
   "id": "afa08d89-41cf-466b-8154-d319638896cb",
   "metadata": {},
   "outputs": [],
   "source": [
    "from sklearn import set_config\n",
    "\n",
    "set_config(transform_output=\"pandas\")"
   ]
  },
  {
   "cell_type": "code",
   "execution_count": null,
   "id": "ffa4afda-3d3f-4784-88de-cb0f8019b619",
   "metadata": {},
   "outputs": [],
   "source": [
    "# encode the data\n",
    "\n",
    "encoder = ColumnTransformer([\n",
    "    (\"ohe\", OneHotEncoder(drop=\"first\",sparse_output=False), [\"region\",\"day_of_week\"])\n",
    "], remainder=\"passthrough\", n_jobs=-1,force_int_remainder_cols=False)"
   ]
  },
  {
   "cell_type": "code",
   "execution_count": 29,
   "id": "327363cc-f2b4-4771-96fd-a0c98887ef09",
   "metadata": {},
   "outputs": [
    {
     "data": {
      "text/html": [
       "<style>#sk-container-id-2 {\n",
       "  /* Definition of color scheme common for light and dark mode */\n",
       "  --sklearn-color-text: black;\n",
       "  --sklearn-color-line: gray;\n",
       "  /* Definition of color scheme for unfitted estimators */\n",
       "  --sklearn-color-unfitted-level-0: #fff5e6;\n",
       "  --sklearn-color-unfitted-level-1: #f6e4d2;\n",
       "  --sklearn-color-unfitted-level-2: #ffe0b3;\n",
       "  --sklearn-color-unfitted-level-3: chocolate;\n",
       "  /* Definition of color scheme for fitted estimators */\n",
       "  --sklearn-color-fitted-level-0: #f0f8ff;\n",
       "  --sklearn-color-fitted-level-1: #d4ebff;\n",
       "  --sklearn-color-fitted-level-2: #b3dbfd;\n",
       "  --sklearn-color-fitted-level-3: cornflowerblue;\n",
       "\n",
       "  /* Specific color for light theme */\n",
       "  --sklearn-color-text-on-default-background: var(--sg-text-color, var(--theme-code-foreground, var(--jp-content-font-color1, black)));\n",
       "  --sklearn-color-background: var(--sg-background-color, var(--theme-background, var(--jp-layout-color0, white)));\n",
       "  --sklearn-color-border-box: var(--sg-text-color, var(--theme-code-foreground, var(--jp-content-font-color1, black)));\n",
       "  --sklearn-color-icon: #696969;\n",
       "\n",
       "  @media (prefers-color-scheme: dark) {\n",
       "    /* Redefinition of color scheme for dark theme */\n",
       "    --sklearn-color-text-on-default-background: var(--sg-text-color, var(--theme-code-foreground, var(--jp-content-font-color1, white)));\n",
       "    --sklearn-color-background: var(--sg-background-color, var(--theme-background, var(--jp-layout-color0, #111)));\n",
       "    --sklearn-color-border-box: var(--sg-text-color, var(--theme-code-foreground, var(--jp-content-font-color1, white)));\n",
       "    --sklearn-color-icon: #878787;\n",
       "  }\n",
       "}\n",
       "\n",
       "#sk-container-id-2 {\n",
       "  color: var(--sklearn-color-text);\n",
       "}\n",
       "\n",
       "#sk-container-id-2 pre {\n",
       "  padding: 0;\n",
       "}\n",
       "\n",
       "#sk-container-id-2 input.sk-hidden--visually {\n",
       "  border: 0;\n",
       "  clip: rect(1px 1px 1px 1px);\n",
       "  clip: rect(1px, 1px, 1px, 1px);\n",
       "  height: 1px;\n",
       "  margin: -1px;\n",
       "  overflow: hidden;\n",
       "  padding: 0;\n",
       "  position: absolute;\n",
       "  width: 1px;\n",
       "}\n",
       "\n",
       "#sk-container-id-2 div.sk-dashed-wrapped {\n",
       "  border: 1px dashed var(--sklearn-color-line);\n",
       "  margin: 0 0.4em 0.5em 0.4em;\n",
       "  box-sizing: border-box;\n",
       "  padding-bottom: 0.4em;\n",
       "  background-color: var(--sklearn-color-background);\n",
       "}\n",
       "\n",
       "#sk-container-id-2 div.sk-container {\n",
       "  /* jupyter's `normalize.less` sets `[hidden] { display: none; }`\n",
       "     but bootstrap.min.css set `[hidden] { display: none !important; }`\n",
       "     so we also need the `!important` here to be able to override the\n",
       "     default hidden behavior on the sphinx rendered scikit-learn.org.\n",
       "     See: https://github.com/scikit-learn/scikit-learn/issues/21755 */\n",
       "  display: inline-block !important;\n",
       "  position: relative;\n",
       "}\n",
       "\n",
       "#sk-container-id-2 div.sk-text-repr-fallback {\n",
       "  display: none;\n",
       "}\n",
       "\n",
       "div.sk-parallel-item,\n",
       "div.sk-serial,\n",
       "div.sk-item {\n",
       "  /* draw centered vertical line to link estimators */\n",
       "  background-image: linear-gradient(var(--sklearn-color-text-on-default-background), var(--sklearn-color-text-on-default-background));\n",
       "  background-size: 2px 100%;\n",
       "  background-repeat: no-repeat;\n",
       "  background-position: center center;\n",
       "}\n",
       "\n",
       "/* Parallel-specific style estimator block */\n",
       "\n",
       "#sk-container-id-2 div.sk-parallel-item::after {\n",
       "  content: \"\";\n",
       "  width: 100%;\n",
       "  border-bottom: 2px solid var(--sklearn-color-text-on-default-background);\n",
       "  flex-grow: 1;\n",
       "}\n",
       "\n",
       "#sk-container-id-2 div.sk-parallel {\n",
       "  display: flex;\n",
       "  align-items: stretch;\n",
       "  justify-content: center;\n",
       "  background-color: var(--sklearn-color-background);\n",
       "  position: relative;\n",
       "}\n",
       "\n",
       "#sk-container-id-2 div.sk-parallel-item {\n",
       "  display: flex;\n",
       "  flex-direction: column;\n",
       "}\n",
       "\n",
       "#sk-container-id-2 div.sk-parallel-item:first-child::after {\n",
       "  align-self: flex-end;\n",
       "  width: 50%;\n",
       "}\n",
       "\n",
       "#sk-container-id-2 div.sk-parallel-item:last-child::after {\n",
       "  align-self: flex-start;\n",
       "  width: 50%;\n",
       "}\n",
       "\n",
       "#sk-container-id-2 div.sk-parallel-item:only-child::after {\n",
       "  width: 0;\n",
       "}\n",
       "\n",
       "/* Serial-specific style estimator block */\n",
       "\n",
       "#sk-container-id-2 div.sk-serial {\n",
       "  display: flex;\n",
       "  flex-direction: column;\n",
       "  align-items: center;\n",
       "  background-color: var(--sklearn-color-background);\n",
       "  padding-right: 1em;\n",
       "  padding-left: 1em;\n",
       "}\n",
       "\n",
       "\n",
       "/* Toggleable style: style used for estimator/Pipeline/ColumnTransformer box that is\n",
       "clickable and can be expanded/collapsed.\n",
       "- Pipeline and ColumnTransformer use this feature and define the default style\n",
       "- Estimators will overwrite some part of the style using the `sk-estimator` class\n",
       "*/\n",
       "\n",
       "/* Pipeline and ColumnTransformer style (default) */\n",
       "\n",
       "#sk-container-id-2 div.sk-toggleable {\n",
       "  /* Default theme specific background. It is overwritten whether we have a\n",
       "  specific estimator or a Pipeline/ColumnTransformer */\n",
       "  background-color: var(--sklearn-color-background);\n",
       "}\n",
       "\n",
       "/* Toggleable label */\n",
       "#sk-container-id-2 label.sk-toggleable__label {\n",
       "  cursor: pointer;\n",
       "  display: block;\n",
       "  width: 100%;\n",
       "  margin-bottom: 0;\n",
       "  padding: 0.5em;\n",
       "  box-sizing: border-box;\n",
       "  text-align: center;\n",
       "}\n",
       "\n",
       "#sk-container-id-2 label.sk-toggleable__label-arrow:before {\n",
       "  /* Arrow on the left of the label */\n",
       "  content: \"▸\";\n",
       "  float: left;\n",
       "  margin-right: 0.25em;\n",
       "  color: var(--sklearn-color-icon);\n",
       "}\n",
       "\n",
       "#sk-container-id-2 label.sk-toggleable__label-arrow:hover:before {\n",
       "  color: var(--sklearn-color-text);\n",
       "}\n",
       "\n",
       "/* Toggleable content - dropdown */\n",
       "\n",
       "#sk-container-id-2 div.sk-toggleable__content {\n",
       "  max-height: 0;\n",
       "  max-width: 0;\n",
       "  overflow: hidden;\n",
       "  text-align: left;\n",
       "  /* unfitted */\n",
       "  background-color: var(--sklearn-color-unfitted-level-0);\n",
       "}\n",
       "\n",
       "#sk-container-id-2 div.sk-toggleable__content.fitted {\n",
       "  /* fitted */\n",
       "  background-color: var(--sklearn-color-fitted-level-0);\n",
       "}\n",
       "\n",
       "#sk-container-id-2 div.sk-toggleable__content pre {\n",
       "  margin: 0.2em;\n",
       "  border-radius: 0.25em;\n",
       "  color: var(--sklearn-color-text);\n",
       "  /* unfitted */\n",
       "  background-color: var(--sklearn-color-unfitted-level-0);\n",
       "}\n",
       "\n",
       "#sk-container-id-2 div.sk-toggleable__content.fitted pre {\n",
       "  /* unfitted */\n",
       "  background-color: var(--sklearn-color-fitted-level-0);\n",
       "}\n",
       "\n",
       "#sk-container-id-2 input.sk-toggleable__control:checked~div.sk-toggleable__content {\n",
       "  /* Expand drop-down */\n",
       "  max-height: 200px;\n",
       "  max-width: 100%;\n",
       "  overflow: auto;\n",
       "}\n",
       "\n",
       "#sk-container-id-2 input.sk-toggleable__control:checked~label.sk-toggleable__label-arrow:before {\n",
       "  content: \"▾\";\n",
       "}\n",
       "\n",
       "/* Pipeline/ColumnTransformer-specific style */\n",
       "\n",
       "#sk-container-id-2 div.sk-label input.sk-toggleable__control:checked~label.sk-toggleable__label {\n",
       "  color: var(--sklearn-color-text);\n",
       "  background-color: var(--sklearn-color-unfitted-level-2);\n",
       "}\n",
       "\n",
       "#sk-container-id-2 div.sk-label.fitted input.sk-toggleable__control:checked~label.sk-toggleable__label {\n",
       "  background-color: var(--sklearn-color-fitted-level-2);\n",
       "}\n",
       "\n",
       "/* Estimator-specific style */\n",
       "\n",
       "/* Colorize estimator box */\n",
       "#sk-container-id-2 div.sk-estimator input.sk-toggleable__control:checked~label.sk-toggleable__label {\n",
       "  /* unfitted */\n",
       "  background-color: var(--sklearn-color-unfitted-level-2);\n",
       "}\n",
       "\n",
       "#sk-container-id-2 div.sk-estimator.fitted input.sk-toggleable__control:checked~label.sk-toggleable__label {\n",
       "  /* fitted */\n",
       "  background-color: var(--sklearn-color-fitted-level-2);\n",
       "}\n",
       "\n",
       "#sk-container-id-2 div.sk-label label.sk-toggleable__label,\n",
       "#sk-container-id-2 div.sk-label label {\n",
       "  /* The background is the default theme color */\n",
       "  color: var(--sklearn-color-text-on-default-background);\n",
       "}\n",
       "\n",
       "/* On hover, darken the color of the background */\n",
       "#sk-container-id-2 div.sk-label:hover label.sk-toggleable__label {\n",
       "  color: var(--sklearn-color-text);\n",
       "  background-color: var(--sklearn-color-unfitted-level-2);\n",
       "}\n",
       "\n",
       "/* Label box, darken color on hover, fitted */\n",
       "#sk-container-id-2 div.sk-label.fitted:hover label.sk-toggleable__label.fitted {\n",
       "  color: var(--sklearn-color-text);\n",
       "  background-color: var(--sklearn-color-fitted-level-2);\n",
       "}\n",
       "\n",
       "/* Estimator label */\n",
       "\n",
       "#sk-container-id-2 div.sk-label label {\n",
       "  font-family: monospace;\n",
       "  font-weight: bold;\n",
       "  display: inline-block;\n",
       "  line-height: 1.2em;\n",
       "}\n",
       "\n",
       "#sk-container-id-2 div.sk-label-container {\n",
       "  text-align: center;\n",
       "}\n",
       "\n",
       "/* Estimator-specific */\n",
       "#sk-container-id-2 div.sk-estimator {\n",
       "  font-family: monospace;\n",
       "  border: 1px dotted var(--sklearn-color-border-box);\n",
       "  border-radius: 0.25em;\n",
       "  box-sizing: border-box;\n",
       "  margin-bottom: 0.5em;\n",
       "  /* unfitted */\n",
       "  background-color: var(--sklearn-color-unfitted-level-0);\n",
       "}\n",
       "\n",
       "#sk-container-id-2 div.sk-estimator.fitted {\n",
       "  /* fitted */\n",
       "  background-color: var(--sklearn-color-fitted-level-0);\n",
       "}\n",
       "\n",
       "/* on hover */\n",
       "#sk-container-id-2 div.sk-estimator:hover {\n",
       "  /* unfitted */\n",
       "  background-color: var(--sklearn-color-unfitted-level-2);\n",
       "}\n",
       "\n",
       "#sk-container-id-2 div.sk-estimator.fitted:hover {\n",
       "  /* fitted */\n",
       "  background-color: var(--sklearn-color-fitted-level-2);\n",
       "}\n",
       "\n",
       "/* Specification for estimator info (e.g. \"i\" and \"?\") */\n",
       "\n",
       "/* Common style for \"i\" and \"?\" */\n",
       "\n",
       ".sk-estimator-doc-link,\n",
       "a:link.sk-estimator-doc-link,\n",
       "a:visited.sk-estimator-doc-link {\n",
       "  float: right;\n",
       "  font-size: smaller;\n",
       "  line-height: 1em;\n",
       "  font-family: monospace;\n",
       "  background-color: var(--sklearn-color-background);\n",
       "  border-radius: 1em;\n",
       "  height: 1em;\n",
       "  width: 1em;\n",
       "  text-decoration: none !important;\n",
       "  margin-left: 1ex;\n",
       "  /* unfitted */\n",
       "  border: var(--sklearn-color-unfitted-level-1) 1pt solid;\n",
       "  color: var(--sklearn-color-unfitted-level-1);\n",
       "}\n",
       "\n",
       ".sk-estimator-doc-link.fitted,\n",
       "a:link.sk-estimator-doc-link.fitted,\n",
       "a:visited.sk-estimator-doc-link.fitted {\n",
       "  /* fitted */\n",
       "  border: var(--sklearn-color-fitted-level-1) 1pt solid;\n",
       "  color: var(--sklearn-color-fitted-level-1);\n",
       "}\n",
       "\n",
       "/* On hover */\n",
       "div.sk-estimator:hover .sk-estimator-doc-link:hover,\n",
       ".sk-estimator-doc-link:hover,\n",
       "div.sk-label-container:hover .sk-estimator-doc-link:hover,\n",
       ".sk-estimator-doc-link:hover {\n",
       "  /* unfitted */\n",
       "  background-color: var(--sklearn-color-unfitted-level-3);\n",
       "  color: var(--sklearn-color-background);\n",
       "  text-decoration: none;\n",
       "}\n",
       "\n",
       "div.sk-estimator.fitted:hover .sk-estimator-doc-link.fitted:hover,\n",
       ".sk-estimator-doc-link.fitted:hover,\n",
       "div.sk-label-container:hover .sk-estimator-doc-link.fitted:hover,\n",
       ".sk-estimator-doc-link.fitted:hover {\n",
       "  /* fitted */\n",
       "  background-color: var(--sklearn-color-fitted-level-3);\n",
       "  color: var(--sklearn-color-background);\n",
       "  text-decoration: none;\n",
       "}\n",
       "\n",
       "/* Span, style for the box shown on hovering the info icon */\n",
       ".sk-estimator-doc-link span {\n",
       "  display: none;\n",
       "  z-index: 9999;\n",
       "  position: relative;\n",
       "  font-weight: normal;\n",
       "  right: .2ex;\n",
       "  padding: .5ex;\n",
       "  margin: .5ex;\n",
       "  width: min-content;\n",
       "  min-width: 20ex;\n",
       "  max-width: 50ex;\n",
       "  color: var(--sklearn-color-text);\n",
       "  box-shadow: 2pt 2pt 4pt #999;\n",
       "  /* unfitted */\n",
       "  background: var(--sklearn-color-unfitted-level-0);\n",
       "  border: .5pt solid var(--sklearn-color-unfitted-level-3);\n",
       "}\n",
       "\n",
       ".sk-estimator-doc-link.fitted span {\n",
       "  /* fitted */\n",
       "  background: var(--sklearn-color-fitted-level-0);\n",
       "  border: var(--sklearn-color-fitted-level-3);\n",
       "}\n",
       "\n",
       ".sk-estimator-doc-link:hover span {\n",
       "  display: block;\n",
       "}\n",
       "\n",
       "/* \"?\"-specific style due to the `<a>` HTML tag */\n",
       "\n",
       "#sk-container-id-2 a.estimator_doc_link {\n",
       "  float: right;\n",
       "  font-size: 1rem;\n",
       "  line-height: 1em;\n",
       "  font-family: monospace;\n",
       "  background-color: var(--sklearn-color-background);\n",
       "  border-radius: 1rem;\n",
       "  height: 1rem;\n",
       "  width: 1rem;\n",
       "  text-decoration: none;\n",
       "  /* unfitted */\n",
       "  color: var(--sklearn-color-unfitted-level-1);\n",
       "  border: var(--sklearn-color-unfitted-level-1) 1pt solid;\n",
       "}\n",
       "\n",
       "#sk-container-id-2 a.estimator_doc_link.fitted {\n",
       "  /* fitted */\n",
       "  border: var(--sklearn-color-fitted-level-1) 1pt solid;\n",
       "  color: var(--sklearn-color-fitted-level-1);\n",
       "}\n",
       "\n",
       "/* On hover */\n",
       "#sk-container-id-2 a.estimator_doc_link:hover {\n",
       "  /* unfitted */\n",
       "  background-color: var(--sklearn-color-unfitted-level-3);\n",
       "  color: var(--sklearn-color-background);\n",
       "  text-decoration: none;\n",
       "}\n",
       "\n",
       "#sk-container-id-2 a.estimator_doc_link.fitted:hover {\n",
       "  /* fitted */\n",
       "  background-color: var(--sklearn-color-fitted-level-3);\n",
       "}\n",
       "</style><div id=\"sk-container-id-2\" class=\"sk-top-container\"><div class=\"sk-text-repr-fallback\"><pre>ColumnTransformer(force_int_remainder_cols=False, n_jobs=-1,\n",
       "                  remainder=&#x27;passthrough&#x27;,\n",
       "                  transformers=[(&#x27;ohe&#x27;,\n",
       "                                 OneHotEncoder(drop=&#x27;first&#x27;,\n",
       "                                               sparse_output=False),\n",
       "                                 [&#x27;region&#x27;, &#x27;day_of_week&#x27;])])</pre><b>In a Jupyter environment, please rerun this cell to show the HTML representation or trust the notebook. <br />On GitHub, the HTML representation is unable to render, please try loading this page with nbviewer.org.</b></div><div class=\"sk-container\" hidden><div class=\"sk-item sk-dashed-wrapped\"><div class=\"sk-label-container\"><div class=\"sk-label  sk-toggleable\"><input class=\"sk-toggleable__control sk-hidden--visually\" id=\"sk-estimator-id-6\" type=\"checkbox\" ><label for=\"sk-estimator-id-6\" class=\"sk-toggleable__label  sk-toggleable__label-arrow \">&nbsp;&nbsp;ColumnTransformer<a class=\"sk-estimator-doc-link \" rel=\"noreferrer\" target=\"_blank\" href=\"https://scikit-learn.org/1.5/modules/generated/sklearn.compose.ColumnTransformer.html\">?<span>Documentation for ColumnTransformer</span></a><span class=\"sk-estimator-doc-link \">i<span>Not fitted</span></span></label><div class=\"sk-toggleable__content \"><pre>ColumnTransformer(force_int_remainder_cols=False, n_jobs=-1,\n",
       "                  remainder=&#x27;passthrough&#x27;,\n",
       "                  transformers=[(&#x27;ohe&#x27;,\n",
       "                                 OneHotEncoder(drop=&#x27;first&#x27;,\n",
       "                                               sparse_output=False),\n",
       "                                 [&#x27;region&#x27;, &#x27;day_of_week&#x27;])])</pre></div> </div></div><div class=\"sk-parallel\"><div class=\"sk-parallel-item\"><div class=\"sk-item\"><div class=\"sk-label-container\"><div class=\"sk-label  sk-toggleable\"><input class=\"sk-toggleable__control sk-hidden--visually\" id=\"sk-estimator-id-7\" type=\"checkbox\" ><label for=\"sk-estimator-id-7\" class=\"sk-toggleable__label  sk-toggleable__label-arrow \">ohe</label><div class=\"sk-toggleable__content \"><pre>[&#x27;region&#x27;, &#x27;day_of_week&#x27;]</pre></div> </div></div><div class=\"sk-serial\"><div class=\"sk-item\"><div class=\"sk-estimator  sk-toggleable\"><input class=\"sk-toggleable__control sk-hidden--visually\" id=\"sk-estimator-id-8\" type=\"checkbox\" ><label for=\"sk-estimator-id-8\" class=\"sk-toggleable__label  sk-toggleable__label-arrow \">&nbsp;OneHotEncoder<a class=\"sk-estimator-doc-link \" rel=\"noreferrer\" target=\"_blank\" href=\"https://scikit-learn.org/1.5/modules/generated/sklearn.preprocessing.OneHotEncoder.html\">?<span>Documentation for OneHotEncoder</span></a></label><div class=\"sk-toggleable__content \"><pre>OneHotEncoder(drop=&#x27;first&#x27;, sparse_output=False)</pre></div> </div></div></div></div></div><div class=\"sk-parallel-item\"><div class=\"sk-item\"><div class=\"sk-label-container\"><div class=\"sk-label  sk-toggleable\"><input class=\"sk-toggleable__control sk-hidden--visually\" id=\"sk-estimator-id-9\" type=\"checkbox\" ><label for=\"sk-estimator-id-9\" class=\"sk-toggleable__label  sk-toggleable__label-arrow \">remainder</label><div class=\"sk-toggleable__content \"><pre></pre></div> </div></div><div class=\"sk-serial\"><div class=\"sk-item\"><div class=\"sk-estimator  sk-toggleable\"><input class=\"sk-toggleable__control sk-hidden--visually\" id=\"sk-estimator-id-10\" type=\"checkbox\" ><label for=\"sk-estimator-id-10\" class=\"sk-toggleable__label  sk-toggleable__label-arrow \">passthrough</label><div class=\"sk-toggleable__content \"><pre>passthrough</pre></div> </div></div></div></div></div></div></div></div></div>"
      ],
      "text/plain": [
       "ColumnTransformer(force_int_remainder_cols=False, n_jobs=-1,\n",
       "                  remainder='passthrough',\n",
       "                  transformers=[('ohe',\n",
       "                                 OneHotEncoder(drop='first',\n",
       "                                               sparse_output=False),\n",
       "                                 ['region', 'day_of_week'])])"
      ]
     },
     "execution_count": 29,
     "metadata": {},
     "output_type": "execute_result"
    }
   ],
   "source": [
    "encoder"
   ]
  },
  {
   "cell_type": "code",
   "execution_count": 30,
   "id": "87be1416-4f29-4641-90f8-3657db7f3c81",
   "metadata": {},
   "outputs": [],
   "source": [
    "# encode the train and test data\n",
    "\n",
    "X_train_encoded = encoder.fit_transform(X_train)\n",
    "X_test_encoded = encoder.transform(X_test)"
   ]
  },
  {
   "cell_type": "code",
   "execution_count": null,
   "id": "183b2699-317e-42ce-9cde-f7b21a5b8856",
   "metadata": {},
   "outputs": [
    {
     "name": "stdout",
     "output_type": "stream",
     "text": [
      "Defaulting to user installation because normal site-packages is not writeable\n",
      "Requirement already satisfied: optuna in c:\\users\\adiip\\appdata\\roaming\\python\\python312\\site-packages (4.2.1)\n",
      "Requirement already satisfied: alembic>=1.5.0 in c:\\users\\adiip\\appdata\\roaming\\python\\python312\\site-packages (from optuna) (1.14.1)\n",
      "Requirement already satisfied: colorlog in c:\\users\\adiip\\appdata\\roaming\\python\\python312\\site-packages (from optuna) (6.9.0)\n",
      "Requirement already satisfied: numpy in c:\\programdata\\anaconda3\\lib\\site-packages (from optuna) (1.26.4)\n",
      "Requirement already satisfied: packaging>=20.0 in c:\\programdata\\anaconda3\\lib\\site-packages (from optuna) (24.1)\n",
      "Requirement already satisfied: sqlalchemy>=1.4.2 in c:\\programdata\\anaconda3\\lib\\site-packages (from optuna) (2.0.34)\n",
      "Requirement already satisfied: tqdm in c:\\programdata\\anaconda3\\lib\\site-packages (from optuna) (4.66.5)\n",
      "Requirement already satisfied: PyYAML in c:\\programdata\\anaconda3\\lib\\site-packages (from optuna) (6.0.1)\n",
      "Requirement already satisfied: Mako in c:\\users\\adiip\\appdata\\roaming\\python\\python312\\site-packages (from alembic>=1.5.0->optuna) (1.3.9)\n",
      "Requirement already satisfied: typing-extensions>=4 in c:\\programdata\\anaconda3\\lib\\site-packages (from alembic>=1.5.0->optuna) (4.11.0)\n",
      "Requirement already satisfied: greenlet!=0.4.17 in c:\\programdata\\anaconda3\\lib\\site-packages (from sqlalchemy>=1.4.2->optuna) (3.0.1)\n",
      "Requirement already satisfied: colorama in c:\\programdata\\anaconda3\\lib\\site-packages (from colorlog->optuna) (0.4.6)\n",
      "Requirement already satisfied: MarkupSafe>=0.9.2 in c:\\programdata\\anaconda3\\lib\\site-packages (from Mako->alembic>=1.5.0->optuna) (2.1.3)\n"
     ]
    }
   ],
   "source": [
    "%pip install optuna\n",
    "import optuna\n",
    "import tqdm "
   ]
  },
  {
   "cell_type": "code",
   "execution_count": 32,
   "id": "fc24c21b-c522-45e8-9e58-8e7522523349",
   "metadata": {},
   "outputs": [],
   "source": [
    "def objective(trial):\n",
    "\n",
    "    # model name search space\n",
    "    list_of_models = [\"LR\", \"RIDGE\",  \"RF\", \"GBR\", \"XGBR\"]\n",
    "    model_name = trial.suggest_categorical(\"model_name\", list_of_models)\n",
    "\n",
    "    if model_name == \"LR\":\n",
    "        model = LinearRegression()\n",
    "\n",
    "    elif model_name == \"RIDGE\":\n",
    "        ridge_alpha = trial.suggest_float(\"ridge_alpha\",1,50)\n",
    "        model = Ridge(alpha=ridge_alpha)\n",
    "\n",
    "    elif model_name == \"RF\":\n",
    "        n_estimators_rf = trial.suggest_int(\"n_estimators_rf\",10,100,step=10)\n",
    "        max_depth_rf = trial.suggest_int(\"max_depth_rf\",3,10)\n",
    "        model = RandomForestRegressor(n_estimators=n_estimators_rf, \n",
    "                                      max_depth=max_depth_rf, \n",
    "                                      random_state=42, n_jobs=-1)\n",
    "\n",
    "    elif model_name == \"GBR\":\n",
    "        n_estimators_gb = trial.suggest_int(\"n_estimators_gb\",10,100,step=10)\n",
    "        learning_rate_gb = trial.suggest_float(\"learning_rate_gb\",1e-4,1e-1)\n",
    "        model = GradientBoostingRegressor(n_estimators=n_estimators_gb, \n",
    "                                          learning_rate=learning_rate_gb,\n",
    "                                         random_state=42)\n",
    "\n",
    "    elif model_name == \"XGBR\":\n",
    "        n_estimators_xgb = trial.suggest_int(\"n_estimators_xgb\",10,100,step=10)\n",
    "        learning_rate_xgb = trial.suggest_float(\"learning_rate_xgb\",1e-4,1e-1)\n",
    "        max_depth_xgb = trial.suggest_int(\"max_depth_xgb\",3,10)\n",
    "        model = XGBRegressor(n_estimators=n_estimators_xgb,\n",
    "                            learning_rate=learning_rate_xgb,\n",
    "                            max_depth=max_depth_xgb)\n",
    "\n",
    "    # fit on the data\n",
    "    model.fit(X_train_encoded,y_train)\n",
    "\n",
    "    # get the predictions\n",
    "    y_pred = model.predict(X_test_encoded)\n",
    "\n",
    "    # calculate the loss\n",
    "    loss = mean_absolute_percentage_error(y_test, y_pred)\n",
    "\n",
    "    return loss"
   ]
  },
  {
   "cell_type": "code",
   "execution_count": 33,
   "id": "1c2e7e6f-130e-427b-a77b-aa2f3271be85",
   "metadata": {},
   "outputs": [
    {
     "name": "stderr",
     "output_type": "stream",
     "text": [
      "[I 2025-02-28 20:05:50,509] A new study created in memory with name: model_selection\n"
     ]
    }
   ],
   "source": [
    "# create a study object\n",
    "study = optuna.create_study(study_name=\"model_selection\", direction=\"minimize\")"
   ]
  },
  {
   "cell_type": "code",
   "execution_count": 34,
   "id": "9b1c9fda-5466-4694-9c0b-5536a993f861",
   "metadata": {},
   "outputs": [
    {
     "name": "stderr",
     "output_type": "stream",
     "text": [
      "[I 2025-02-28 20:05:51,363] Trial 5 finished with value: 0.07931857683364948 and parameters: {'model_name': 'RIDGE', 'ridge_alpha': 11.02717437859067}. Best is trial 5 with value: 0.07931857683364948.\n",
      "[I 2025-02-28 20:05:51,419] Trial 1 finished with value: 0.07934790285463848 and parameters: {'model_name': 'LR'}. Best is trial 5 with value: 0.07931857683364948.\n",
      "[I 2025-02-28 20:05:51,430] Trial 4 finished with value: 0.07930491376082585 and parameters: {'model_name': 'RIDGE', 'ridge_alpha': 16.7133764765578}. Best is trial 4 with value: 0.07930491376082585.\n",
      "[I 2025-02-28 20:05:51,492] Trial 8 finished with value: 0.07934790285463848 and parameters: {'model_name': 'LR'}. Best is trial 4 with value: 0.07930491376082585.\n",
      "[I 2025-02-28 20:05:51,512] Trial 9 finished with value: 0.07925548993853726 and parameters: {'model_name': 'RIDGE', 'ridge_alpha': 40.211406403122325}. Best is trial 9 with value: 0.07925548993853726.\n",
      "[I 2025-02-28 20:05:51,568] Trial 10 finished with value: 0.07928887188730428 and parameters: {'model_name': 'RIDGE', 'ridge_alpha': 23.84435706521414}. Best is trial 9 with value: 0.07925548993853726.\n",
      "[I 2025-02-28 20:05:51,568] Trial 15 finished with value: 0.07924919837399509 and parameters: {'model_name': 'RIDGE', 'ridge_alpha': 43.53965282297426}. Best is trial 15 with value: 0.07924919837399509.\n",
      "[I 2025-02-28 20:05:51,834] Trial 16 finished with value: 0.07925814583947335 and parameters: {'model_name': 'RIDGE', 'ridge_alpha': 38.820808943313025}. Best is trial 15 with value: 0.07924919837399509.\n",
      "[I 2025-02-28 20:05:52,279] Trial 17 finished with value: 0.07929652624559312 and parameters: {'model_name': 'RIDGE', 'ridge_alpha': 20.393252643204924}. Best is trial 15 with value: 0.07924919837399509.\n",
      "[I 2025-02-28 20:05:54,875] Trial 21 finished with value: 0.07925139823195004 and parameters: {'model_name': 'RIDGE', 'ridge_alpha': 42.36841793653192}. Best is trial 15 with value: 0.07924919837399509.\n",
      "[I 2025-02-28 20:05:54,933] Trial 20 finished with value: 0.07934790285463848 and parameters: {'model_name': 'LR'}. Best is trial 15 with value: 0.07924919837399509.\n",
      "[I 2025-02-28 20:06:00,846] Trial 14 finished with value: 0.5365101844163558 and parameters: {'model_name': 'RF', 'n_estimators_rf': 10, 'max_depth_rf': 3}. Best is trial 15 with value: 0.07924919837399509.\n",
      "[I 2025-02-28 20:06:01,994] Trial 3 finished with value: 0.34640641368466896 and parameters: {'model_name': 'RF', 'n_estimators_rf': 70, 'max_depth_rf': 4}. Best is trial 15 with value: 0.07924919837399509.\n",
      "[I 2025-02-28 20:06:02,104] Trial 0 finished with value: 0.34679927393031085 and parameters: {'model_name': 'RF', 'n_estimators_rf': 80, 'max_depth_rf': 4}. Best is trial 15 with value: 0.07924919837399509.\n",
      "[I 2025-02-28 20:06:02,139] Trial 7 finished with value: 0.12902721652852625 and parameters: {'model_name': 'RF', 'n_estimators_rf': 40, 'max_depth_rf': 10}. Best is trial 15 with value: 0.07924919837399509.\n",
      "[I 2025-02-28 20:06:02,325] Trial 18 finished with value: 0.5432951266150715 and parameters: {'model_name': 'RF', 'n_estimators_rf': 50, 'max_depth_rf': 3}. Best is trial 15 with value: 0.07924919837399509.\n",
      "[I 2025-02-28 20:06:04,005] Trial 2 finished with value: 6.5109514191038835 and parameters: {'model_name': 'GBR', 'n_estimators_gb': 10, 'learning_rate_gb': 0.001078290781290521}. Best is trial 15 with value: 0.07924919837399509.\n",
      "[I 2025-02-28 20:06:04,880] Trial 24 finished with value: 3.8945055383426155 and parameters: {'model_name': 'GBR', 'n_estimators_gb': 10, 'learning_rate_gb': 0.05508864020685985}. Best is trial 15 with value: 0.07924919837399509.\n",
      "[I 2025-02-28 20:06:05,989] Trial 31 finished with value: 1.9614443903000702 and parameters: {'model_name': 'XGBR', 'n_estimators_xgb': 20, 'learning_rate_xgb': 0.06018936437481931, 'max_depth_xgb': 7}. Best is trial 15 with value: 0.07924919837399509.\n",
      "[I 2025-02-28 20:06:06,300] Trial 27 finished with value: 4.676523088346819 and parameters: {'model_name': 'GBR', 'n_estimators_gb': 10, 'learning_rate_gb': 0.036020333675745614}. Best is trial 15 with value: 0.07924919837399509.\n",
      "[I 2025-02-28 20:06:06,341] Trial 23 finished with value: 0.5324778030163437 and parameters: {'model_name': 'XGBR', 'n_estimators_xgb': 40, 'learning_rate_xgb': 0.06902463212249915, 'max_depth_xgb': 4}. Best is trial 15 with value: 0.07924919837399509.\n",
      "[I 2025-02-28 20:06:06,569] Trial 36 finished with value: 0.07924442335399681 and parameters: {'model_name': 'RIDGE', 'ridge_alpha': 46.13170627563611}. Best is trial 36 with value: 0.07924442335399681.\n",
      "[I 2025-02-28 20:06:06,715] Trial 28 finished with value: 4.17063911993579 and parameters: {'model_name': 'GBR', 'n_estimators_gb': 10, 'learning_rate_gb': 0.047920956362902806}. Best is trial 36 with value: 0.07924442335399681.\n",
      "[I 2025-02-28 20:06:06,834] Trial 37 finished with value: 0.07924080183988742 and parameters: {'model_name': 'RIDGE', 'ridge_alpha': 48.15802399822002}. Best is trial 37 with value: 0.07924080183988742.\n",
      "[I 2025-02-28 20:06:07,014] Trial 38 finished with value: 0.07923898642678603 and parameters: {'model_name': 'RIDGE', 'ridge_alpha': 49.18434815636222}. Best is trial 38 with value: 0.07923898642678603.\n",
      "[I 2025-02-28 20:06:07,079] Trial 39 finished with value: 0.07923819328304084 and parameters: {'model_name': 'RIDGE', 'ridge_alpha': 49.63609624379841}. Best is trial 39 with value: 0.07923819328304084.\n",
      "[I 2025-02-28 20:06:07,245] Trial 40 finished with value: 0.07923780375458753 and parameters: {'model_name': 'RIDGE', 'ridge_alpha': 49.85865847846003}. Best is trial 40 with value: 0.07923780375458753.\n",
      "[I 2025-02-28 20:06:07,337] Trial 41 finished with value: 0.07923832047937397 and parameters: {'model_name': 'RIDGE', 'ridge_alpha': 49.56344446477975}. Best is trial 40 with value: 0.07923780375458753.\n",
      "[I 2025-02-28 20:06:07,486] Trial 42 finished with value: 0.07926888711692706 and parameters: {'model_name': 'RIDGE', 'ridge_alpha': 33.359696487401315}. Best is trial 40 with value: 0.07923780375458753.\n",
      "[I 2025-02-28 20:06:07,783] Trial 22 finished with value: 1.350067993722633 and parameters: {'model_name': 'XGBR', 'n_estimators_xgb': 20, 'learning_rate_xgb': 0.0781250224035529, 'max_depth_xgb': 10}. Best is trial 40 with value: 0.07923780375458753.\n",
      "[I 2025-02-28 20:06:07,987] Trial 45 finished with value: 0.07927275576652129 and parameters: {'model_name': 'RIDGE', 'ridge_alpha': 31.45229425383935}. Best is trial 40 with value: 0.07923780375458753.\n",
      "[I 2025-02-28 20:06:08,186] Trial 46 finished with value: 0.07923836607560675 and parameters: {'model_name': 'RIDGE', 'ridge_alpha': 49.53740684667606}. Best is trial 40 with value: 0.07923780375458753.\n",
      "[I 2025-02-28 20:06:08,375] Trial 47 finished with value: 0.07923779847384137 and parameters: {'model_name': 'RIDGE', 'ridge_alpha': 49.86167644879519}. Best is trial 47 with value: 0.07923779847384137.\n",
      "[I 2025-02-28 20:06:08,732] Trial 48 finished with value: 0.07934790285463848 and parameters: {'model_name': 'LR'}. Best is trial 47 with value: 0.07923779847384137.\n",
      "[I 2025-02-28 20:06:08,934] Trial 49 finished with value: 0.07923766803194288 and parameters: {'model_name': 'RIDGE', 'ridge_alpha': 49.936263310118676}. Best is trial 49 with value: 0.07923766803194288.\n",
      "[I 2025-02-28 20:06:09,895] Trial 26 finished with value: 3.4758975965657357 and parameters: {'model_name': 'GBR', 'n_estimators_gb': 20, 'learning_rate_gb': 0.03411944525977893}. Best is trial 49 with value: 0.07923766803194288.\n",
      "[I 2025-02-28 20:06:12,473] Trial 13 finished with value: 3.68965029524367 and parameters: {'model_name': 'GBR', 'n_estimators_gb': 30, 'learning_rate_gb': 0.02066496176179267}. Best is trial 49 with value: 0.07923766803194288.\n",
      "[I 2025-02-28 20:06:14,626] Trial 35 finished with value: 4.727610957465121 and parameters: {'model_name': 'XGBR', 'n_estimators_xgb': 90, 'learning_rate_xgb': 0.003930662793018333, 'max_depth_xgb': 3}. Best is trial 49 with value: 0.07923766803194288.\n",
      "[I 2025-02-28 20:06:14,909] Trial 34 finished with value: 5.760259470530857 and parameters: {'model_name': 'XGBR', 'n_estimators_xgb': 100, 'learning_rate_xgb': 0.0014123059803977031, 'max_depth_xgb': 3}. Best is trial 49 with value: 0.07923766803194288.\n",
      "[I 2025-02-28 20:06:15,103] Trial 25 finished with value: 0.12393115663401211 and parameters: {'model_name': 'XGBR', 'n_estimators_xgb': 50, 'learning_rate_xgb': 0.09460312060623101, 'max_depth_xgb': 10}. Best is trial 49 with value: 0.07923766803194288.\n",
      "[I 2025-02-28 20:06:17,181] Trial 11 finished with value: 0.1963798624230528 and parameters: {'model_name': 'XGBR', 'n_estimators_xgb': 80, 'learning_rate_xgb': 0.04833317350246963, 'max_depth_xgb': 9}. Best is trial 49 with value: 0.07923766803194288.\n",
      "[I 2025-02-28 20:06:17,396] Trial 19 finished with value: 2.2164874641323724 and parameters: {'model_name': 'GBR', 'n_estimators_gb': 40, 'learning_rate_gb': 0.02962238185592316}. Best is trial 49 with value: 0.07923766803194288.\n",
      "[I 2025-02-28 20:06:17,543] Trial 32 finished with value: 0.15222995308721968 and parameters: {'model_name': 'XGBR', 'n_estimators_xgb': 80, 'learning_rate_xgb': 0.05610452943931885, 'max_depth_xgb': 8}. Best is trial 49 with value: 0.07923766803194288.\n",
      "[I 2025-02-28 20:06:18,059] Trial 33 finished with value: 1.9269390667675492 and parameters: {'model_name': 'XGBR', 'n_estimators_xgb': 90, 'learning_rate_xgb': 0.013873015385419012, 'max_depth_xgb': 8}. Best is trial 49 with value: 0.07923766803194288.\n",
      "[I 2025-02-28 20:06:19,272] Trial 44 finished with value: 2.558059844790504 and parameters: {'model_name': 'XGBR', 'n_estimators_xgb': 100, 'learning_rate_xgb': 0.009583802814503703, 'max_depth_xgb': 10}. Best is trial 49 with value: 0.07923766803194288.\n",
      "[I 2025-02-28 20:06:19,295] Trial 43 finished with value: 1.353743098177906 and parameters: {'model_name': 'XGBR', 'n_estimators_xgb': 100, 'learning_rate_xgb': 0.0161042699298918, 'max_depth_xgb': 10}. Best is trial 49 with value: 0.07923766803194288.\n",
      "[I 2025-02-28 20:06:20,860] Trial 29 finished with value: 0.8302308433988123 and parameters: {'model_name': 'GBR', 'n_estimators_gb': 40, 'learning_rate_gb': 0.058235576484980865}. Best is trial 49 with value: 0.07923766803194288.\n",
      "[I 2025-02-28 20:06:31,036] Trial 6 finished with value: 0.3004919765361937 and parameters: {'model_name': 'GBR', 'n_estimators_gb': 80, 'learning_rate_gb': 0.06651287044751258}. Best is trial 49 with value: 0.07923766803194288.\n",
      "[I 2025-02-28 20:06:37,001] Trial 12 finished with value: 0.32369345459583865 and parameters: {'model_name': 'GBR', 'n_estimators_gb': 100, 'learning_rate_gb': 0.04857121628570084}. Best is trial 49 with value: 0.07923766803194288.\n",
      "[I 2025-02-28 20:06:38,133] Trial 30 finished with value: 0.26842971056864384 and parameters: {'model_name': 'GBR', 'n_estimators_gb': 90, 'learning_rate_gb': 0.06954607041819544}. Best is trial 49 with value: 0.07923766803194288.\n"
     ]
    }
   ],
   "source": [
    "# optimize the objective function\n",
    "study.optimize(func=objective, n_trials=50, n_jobs=-1)"
   ]
  },
  {
   "cell_type": "code",
   "execution_count": 35,
   "id": "854de4f2-f14e-4683-ad44-988f341643c2",
   "metadata": {},
   "outputs": [
    {
     "data": {
      "text/plain": [
       "0.07923766803194288"
      ]
     },
     "execution_count": 35,
     "metadata": {},
     "output_type": "execute_result"
    }
   ],
   "source": [
    "# best value\n",
    "\n",
    "study.best_value"
   ]
  },
  {
   "cell_type": "code",
   "execution_count": 36,
   "id": "2c31c7ba-af18-420e-afad-bb53f2877d2c",
   "metadata": {},
   "outputs": [
    {
     "data": {
      "text/plain": [
       "{'model_name': 'RIDGE', 'ridge_alpha': 49.936263310118676}"
      ]
     },
     "execution_count": 36,
     "metadata": {},
     "output_type": "execute_result"
    }
   ],
   "source": [
    "# best parameters\n",
    "\n",
    "study.best_params"
   ]
  },
  {
   "cell_type": "code",
   "execution_count": 37,
   "id": "0c9205bd-c13a-494b-a2f9-d636799cee53",
   "metadata": {},
   "outputs": [
    {
     "data": {
      "text/plain": [
       "params_model_name\n",
       "RIDGE    19\n",
       "GBR      11\n",
       "XGBR     11\n",
       "RF        5\n",
       "LR        4\n",
       "Name: count, dtype: int64"
      ]
     },
     "execution_count": 37,
     "metadata": {},
     "output_type": "execute_result"
    }
   ],
   "source": [
    "# model value counts\n",
    "\n",
    "study.trials_dataframe()['params_model_name'].value_counts()"
   ]
  },
  {
   "cell_type": "code",
   "execution_count": 38,
   "id": "dfe85a07-4927-4501-8c1b-9d5f54afc1d9",
   "metadata": {},
   "outputs": [],
   "source": [
    "from optuna.visualization import (\n",
    "    plot_optimization_history, \n",
    "    plot_parallel_coordinate, \n",
    "    plot_param_importances\n",
    ")"
   ]
  },
  {
   "cell_type": "code",
   "execution_count": 39,
   "id": "353601c2-0af8-4df9-a50c-7bba7b2b50a6",
   "metadata": {},
   "outputs": [
    {
     "data": {
      "application/vnd.plotly.v1+json": {
       "config": {
        "plotlyServerURL": "https://plot.ly"
       },
       "data": [
        {
         "mode": "markers",
         "name": "Objective Value",
         "type": "scatter",
         "x": [
          0,
          1,
          2,
          3,
          4,
          5,
          6,
          7,
          8,
          9,
          10,
          11,
          12,
          13,
          14,
          15,
          16,
          17,
          18,
          19,
          20,
          21,
          22,
          23,
          24,
          25,
          26,
          27,
          28,
          29,
          30,
          31,
          32,
          33,
          34,
          35,
          36,
          37,
          38,
          39,
          40,
          41,
          42,
          43,
          44,
          45,
          46,
          47,
          48,
          49
         ],
         "y": [
          0.34679927393031085,
          0.07934790285463848,
          6.5109514191038835,
          0.34640641368466896,
          0.07930491376082585,
          0.07931857683364948,
          0.3004919765361937,
          0.12902721652852625,
          0.07934790285463848,
          0.07925548993853726,
          0.07928887188730428,
          0.1963798624230528,
          0.32369345459583865,
          3.68965029524367,
          0.5365101844163558,
          0.07924919837399509,
          0.07925814583947335,
          0.07929652624559312,
          0.5432951266150715,
          2.2164874641323724,
          0.07934790285463848,
          0.07925139823195004,
          1.350067993722633,
          0.5324778030163437,
          3.8945055383426155,
          0.12393115663401211,
          3.4758975965657357,
          4.676523088346819,
          4.17063911993579,
          0.8302308433988123,
          0.26842971056864384,
          1.9614443903000702,
          0.15222995308721968,
          1.9269390667675492,
          5.760259470530857,
          4.727610957465121,
          0.07924442335399681,
          0.07924080183988742,
          0.07923898642678603,
          0.07923819328304084,
          0.07923780375458753,
          0.07923832047937397,
          0.07926888711692706,
          1.353743098177906,
          2.558059844790504,
          0.07927275576652129,
          0.07923836607560675,
          0.07923779847384137,
          0.07934790285463848,
          0.07923766803194288
         ]
        },
        {
         "mode": "lines",
         "name": "Best Value",
         "type": "scatter",
         "x": [
          0,
          1,
          2,
          3,
          4,
          5,
          6,
          7,
          8,
          9,
          10,
          11,
          12,
          13,
          14,
          15,
          16,
          17,
          18,
          19,
          20,
          21,
          22,
          23,
          24,
          25,
          26,
          27,
          28,
          29,
          30,
          31,
          32,
          33,
          34,
          35,
          36,
          37,
          38,
          39,
          40,
          41,
          42,
          43,
          44,
          45,
          46,
          47,
          48,
          49
         ],
         "y": [
          0.34679927393031085,
          0.07934790285463848,
          0.07934790285463848,
          0.07934790285463848,
          0.07930491376082585,
          0.07930491376082585,
          0.07930491376082585,
          0.07930491376082585,
          0.07930491376082585,
          0.07925548993853726,
          0.07925548993853726,
          0.07925548993853726,
          0.07925548993853726,
          0.07925548993853726,
          0.07925548993853726,
          0.07924919837399509,
          0.07924919837399509,
          0.07924919837399509,
          0.07924919837399509,
          0.07924919837399509,
          0.07924919837399509,
          0.07924919837399509,
          0.07924919837399509,
          0.07924919837399509,
          0.07924919837399509,
          0.07924919837399509,
          0.07924919837399509,
          0.07924919837399509,
          0.07924919837399509,
          0.07924919837399509,
          0.07924919837399509,
          0.07924919837399509,
          0.07924919837399509,
          0.07924919837399509,
          0.07924919837399509,
          0.07924919837399509,
          0.07924442335399681,
          0.07924080183988742,
          0.07923898642678603,
          0.07923819328304084,
          0.07923780375458753,
          0.07923780375458753,
          0.07923780375458753,
          0.07923780375458753,
          0.07923780375458753,
          0.07923780375458753,
          0.07923780375458753,
          0.07923779847384137,
          0.07923779847384137,
          0.07923766803194288
         ]
        },
        {
         "marker": {
          "color": "#cccccc"
         },
         "mode": "markers",
         "name": "Infeasible Trial",
         "showlegend": false,
         "type": "scatter",
         "x": [],
         "y": []
        }
       ],
       "layout": {
        "template": {
         "data": {
          "bar": [
           {
            "error_x": {
             "color": "#2a3f5f"
            },
            "error_y": {
             "color": "#2a3f5f"
            },
            "marker": {
             "line": {
              "color": "#E5ECF6",
              "width": 0.5
             },
             "pattern": {
              "fillmode": "overlay",
              "size": 10,
              "solidity": 0.2
             }
            },
            "type": "bar"
           }
          ],
          "barpolar": [
           {
            "marker": {
             "line": {
              "color": "#E5ECF6",
              "width": 0.5
             },
             "pattern": {
              "fillmode": "overlay",
              "size": 10,
              "solidity": 0.2
             }
            },
            "type": "barpolar"
           }
          ],
          "carpet": [
           {
            "aaxis": {
             "endlinecolor": "#2a3f5f",
             "gridcolor": "white",
             "linecolor": "white",
             "minorgridcolor": "white",
             "startlinecolor": "#2a3f5f"
            },
            "baxis": {
             "endlinecolor": "#2a3f5f",
             "gridcolor": "white",
             "linecolor": "white",
             "minorgridcolor": "white",
             "startlinecolor": "#2a3f5f"
            },
            "type": "carpet"
           }
          ],
          "choropleth": [
           {
            "colorbar": {
             "outlinewidth": 0,
             "ticks": ""
            },
            "type": "choropleth"
           }
          ],
          "contour": [
           {
            "colorbar": {
             "outlinewidth": 0,
             "ticks": ""
            },
            "colorscale": [
             [
              0,
              "#0d0887"
             ],
             [
              0.1111111111111111,
              "#46039f"
             ],
             [
              0.2222222222222222,
              "#7201a8"
             ],
             [
              0.3333333333333333,
              "#9c179e"
             ],
             [
              0.4444444444444444,
              "#bd3786"
             ],
             [
              0.5555555555555556,
              "#d8576b"
             ],
             [
              0.6666666666666666,
              "#ed7953"
             ],
             [
              0.7777777777777778,
              "#fb9f3a"
             ],
             [
              0.8888888888888888,
              "#fdca26"
             ],
             [
              1,
              "#f0f921"
             ]
            ],
            "type": "contour"
           }
          ],
          "contourcarpet": [
           {
            "colorbar": {
             "outlinewidth": 0,
             "ticks": ""
            },
            "type": "contourcarpet"
           }
          ],
          "heatmap": [
           {
            "colorbar": {
             "outlinewidth": 0,
             "ticks": ""
            },
            "colorscale": [
             [
              0,
              "#0d0887"
             ],
             [
              0.1111111111111111,
              "#46039f"
             ],
             [
              0.2222222222222222,
              "#7201a8"
             ],
             [
              0.3333333333333333,
              "#9c179e"
             ],
             [
              0.4444444444444444,
              "#bd3786"
             ],
             [
              0.5555555555555556,
              "#d8576b"
             ],
             [
              0.6666666666666666,
              "#ed7953"
             ],
             [
              0.7777777777777778,
              "#fb9f3a"
             ],
             [
              0.8888888888888888,
              "#fdca26"
             ],
             [
              1,
              "#f0f921"
             ]
            ],
            "type": "heatmap"
           }
          ],
          "heatmapgl": [
           {
            "colorbar": {
             "outlinewidth": 0,
             "ticks": ""
            },
            "colorscale": [
             [
              0,
              "#0d0887"
             ],
             [
              0.1111111111111111,
              "#46039f"
             ],
             [
              0.2222222222222222,
              "#7201a8"
             ],
             [
              0.3333333333333333,
              "#9c179e"
             ],
             [
              0.4444444444444444,
              "#bd3786"
             ],
             [
              0.5555555555555556,
              "#d8576b"
             ],
             [
              0.6666666666666666,
              "#ed7953"
             ],
             [
              0.7777777777777778,
              "#fb9f3a"
             ],
             [
              0.8888888888888888,
              "#fdca26"
             ],
             [
              1,
              "#f0f921"
             ]
            ],
            "type": "heatmapgl"
           }
          ],
          "histogram": [
           {
            "marker": {
             "pattern": {
              "fillmode": "overlay",
              "size": 10,
              "solidity": 0.2
             }
            },
            "type": "histogram"
           }
          ],
          "histogram2d": [
           {
            "colorbar": {
             "outlinewidth": 0,
             "ticks": ""
            },
            "colorscale": [
             [
              0,
              "#0d0887"
             ],
             [
              0.1111111111111111,
              "#46039f"
             ],
             [
              0.2222222222222222,
              "#7201a8"
             ],
             [
              0.3333333333333333,
              "#9c179e"
             ],
             [
              0.4444444444444444,
              "#bd3786"
             ],
             [
              0.5555555555555556,
              "#d8576b"
             ],
             [
              0.6666666666666666,
              "#ed7953"
             ],
             [
              0.7777777777777778,
              "#fb9f3a"
             ],
             [
              0.8888888888888888,
              "#fdca26"
             ],
             [
              1,
              "#f0f921"
             ]
            ],
            "type": "histogram2d"
           }
          ],
          "histogram2dcontour": [
           {
            "colorbar": {
             "outlinewidth": 0,
             "ticks": ""
            },
            "colorscale": [
             [
              0,
              "#0d0887"
             ],
             [
              0.1111111111111111,
              "#46039f"
             ],
             [
              0.2222222222222222,
              "#7201a8"
             ],
             [
              0.3333333333333333,
              "#9c179e"
             ],
             [
              0.4444444444444444,
              "#bd3786"
             ],
             [
              0.5555555555555556,
              "#d8576b"
             ],
             [
              0.6666666666666666,
              "#ed7953"
             ],
             [
              0.7777777777777778,
              "#fb9f3a"
             ],
             [
              0.8888888888888888,
              "#fdca26"
             ],
             [
              1,
              "#f0f921"
             ]
            ],
            "type": "histogram2dcontour"
           }
          ],
          "mesh3d": [
           {
            "colorbar": {
             "outlinewidth": 0,
             "ticks": ""
            },
            "type": "mesh3d"
           }
          ],
          "parcoords": [
           {
            "line": {
             "colorbar": {
              "outlinewidth": 0,
              "ticks": ""
             }
            },
            "type": "parcoords"
           }
          ],
          "pie": [
           {
            "automargin": true,
            "type": "pie"
           }
          ],
          "scatter": [
           {
            "fillpattern": {
             "fillmode": "overlay",
             "size": 10,
             "solidity": 0.2
            },
            "type": "scatter"
           }
          ],
          "scatter3d": [
           {
            "line": {
             "colorbar": {
              "outlinewidth": 0,
              "ticks": ""
             }
            },
            "marker": {
             "colorbar": {
              "outlinewidth": 0,
              "ticks": ""
             }
            },
            "type": "scatter3d"
           }
          ],
          "scattercarpet": [
           {
            "marker": {
             "colorbar": {
              "outlinewidth": 0,
              "ticks": ""
             }
            },
            "type": "scattercarpet"
           }
          ],
          "scattergeo": [
           {
            "marker": {
             "colorbar": {
              "outlinewidth": 0,
              "ticks": ""
             }
            },
            "type": "scattergeo"
           }
          ],
          "scattergl": [
           {
            "marker": {
             "colorbar": {
              "outlinewidth": 0,
              "ticks": ""
             }
            },
            "type": "scattergl"
           }
          ],
          "scattermapbox": [
           {
            "marker": {
             "colorbar": {
              "outlinewidth": 0,
              "ticks": ""
             }
            },
            "type": "scattermapbox"
           }
          ],
          "scatterpolar": [
           {
            "marker": {
             "colorbar": {
              "outlinewidth": 0,
              "ticks": ""
             }
            },
            "type": "scatterpolar"
           }
          ],
          "scatterpolargl": [
           {
            "marker": {
             "colorbar": {
              "outlinewidth": 0,
              "ticks": ""
             }
            },
            "type": "scatterpolargl"
           }
          ],
          "scatterternary": [
           {
            "marker": {
             "colorbar": {
              "outlinewidth": 0,
              "ticks": ""
             }
            },
            "type": "scatterternary"
           }
          ],
          "surface": [
           {
            "colorbar": {
             "outlinewidth": 0,
             "ticks": ""
            },
            "colorscale": [
             [
              0,
              "#0d0887"
             ],
             [
              0.1111111111111111,
              "#46039f"
             ],
             [
              0.2222222222222222,
              "#7201a8"
             ],
             [
              0.3333333333333333,
              "#9c179e"
             ],
             [
              0.4444444444444444,
              "#bd3786"
             ],
             [
              0.5555555555555556,
              "#d8576b"
             ],
             [
              0.6666666666666666,
              "#ed7953"
             ],
             [
              0.7777777777777778,
              "#fb9f3a"
             ],
             [
              0.8888888888888888,
              "#fdca26"
             ],
             [
              1,
              "#f0f921"
             ]
            ],
            "type": "surface"
           }
          ],
          "table": [
           {
            "cells": {
             "fill": {
              "color": "#EBF0F8"
             },
             "line": {
              "color": "white"
             }
            },
            "header": {
             "fill": {
              "color": "#C8D4E3"
             },
             "line": {
              "color": "white"
             }
            },
            "type": "table"
           }
          ]
         },
         "layout": {
          "annotationdefaults": {
           "arrowcolor": "#2a3f5f",
           "arrowhead": 0,
           "arrowwidth": 1
          },
          "autotypenumbers": "strict",
          "coloraxis": {
           "colorbar": {
            "outlinewidth": 0,
            "ticks": ""
           }
          },
          "colorscale": {
           "diverging": [
            [
             0,
             "#8e0152"
            ],
            [
             0.1,
             "#c51b7d"
            ],
            [
             0.2,
             "#de77ae"
            ],
            [
             0.3,
             "#f1b6da"
            ],
            [
             0.4,
             "#fde0ef"
            ],
            [
             0.5,
             "#f7f7f7"
            ],
            [
             0.6,
             "#e6f5d0"
            ],
            [
             0.7,
             "#b8e186"
            ],
            [
             0.8,
             "#7fbc41"
            ],
            [
             0.9,
             "#4d9221"
            ],
            [
             1,
             "#276419"
            ]
           ],
           "sequential": [
            [
             0,
             "#0d0887"
            ],
            [
             0.1111111111111111,
             "#46039f"
            ],
            [
             0.2222222222222222,
             "#7201a8"
            ],
            [
             0.3333333333333333,
             "#9c179e"
            ],
            [
             0.4444444444444444,
             "#bd3786"
            ],
            [
             0.5555555555555556,
             "#d8576b"
            ],
            [
             0.6666666666666666,
             "#ed7953"
            ],
            [
             0.7777777777777778,
             "#fb9f3a"
            ],
            [
             0.8888888888888888,
             "#fdca26"
            ],
            [
             1,
             "#f0f921"
            ]
           ],
           "sequentialminus": [
            [
             0,
             "#0d0887"
            ],
            [
             0.1111111111111111,
             "#46039f"
            ],
            [
             0.2222222222222222,
             "#7201a8"
            ],
            [
             0.3333333333333333,
             "#9c179e"
            ],
            [
             0.4444444444444444,
             "#bd3786"
            ],
            [
             0.5555555555555556,
             "#d8576b"
            ],
            [
             0.6666666666666666,
             "#ed7953"
            ],
            [
             0.7777777777777778,
             "#fb9f3a"
            ],
            [
             0.8888888888888888,
             "#fdca26"
            ],
            [
             1,
             "#f0f921"
            ]
           ]
          },
          "colorway": [
           "#636efa",
           "#EF553B",
           "#00cc96",
           "#ab63fa",
           "#FFA15A",
           "#19d3f3",
           "#FF6692",
           "#B6E880",
           "#FF97FF",
           "#FECB52"
          ],
          "font": {
           "color": "#2a3f5f"
          },
          "geo": {
           "bgcolor": "white",
           "lakecolor": "white",
           "landcolor": "#E5ECF6",
           "showlakes": true,
           "showland": true,
           "subunitcolor": "white"
          },
          "hoverlabel": {
           "align": "left"
          },
          "hovermode": "closest",
          "mapbox": {
           "style": "light"
          },
          "paper_bgcolor": "white",
          "plot_bgcolor": "#E5ECF6",
          "polar": {
           "angularaxis": {
            "gridcolor": "white",
            "linecolor": "white",
            "ticks": ""
           },
           "bgcolor": "#E5ECF6",
           "radialaxis": {
            "gridcolor": "white",
            "linecolor": "white",
            "ticks": ""
           }
          },
          "scene": {
           "xaxis": {
            "backgroundcolor": "#E5ECF6",
            "gridcolor": "white",
            "gridwidth": 2,
            "linecolor": "white",
            "showbackground": true,
            "ticks": "",
            "zerolinecolor": "white"
           },
           "yaxis": {
            "backgroundcolor": "#E5ECF6",
            "gridcolor": "white",
            "gridwidth": 2,
            "linecolor": "white",
            "showbackground": true,
            "ticks": "",
            "zerolinecolor": "white"
           },
           "zaxis": {
            "backgroundcolor": "#E5ECF6",
            "gridcolor": "white",
            "gridwidth": 2,
            "linecolor": "white",
            "showbackground": true,
            "ticks": "",
            "zerolinecolor": "white"
           }
          },
          "shapedefaults": {
           "line": {
            "color": "#2a3f5f"
           }
          },
          "ternary": {
           "aaxis": {
            "gridcolor": "white",
            "linecolor": "white",
            "ticks": ""
           },
           "baxis": {
            "gridcolor": "white",
            "linecolor": "white",
            "ticks": ""
           },
           "bgcolor": "#E5ECF6",
           "caxis": {
            "gridcolor": "white",
            "linecolor": "white",
            "ticks": ""
           }
          },
          "title": {
           "x": 0.05
          },
          "xaxis": {
           "automargin": true,
           "gridcolor": "white",
           "linecolor": "white",
           "ticks": "",
           "title": {
            "standoff": 15
           },
           "zerolinecolor": "white",
           "zerolinewidth": 2
          },
          "yaxis": {
           "automargin": true,
           "gridcolor": "white",
           "linecolor": "white",
           "ticks": "",
           "title": {
            "standoff": 15
           },
           "zerolinecolor": "white",
           "zerolinewidth": 2
          }
         }
        },
        "title": {
         "text": "Optimization History Plot"
        },
        "xaxis": {
         "title": {
          "text": "Trial"
         }
        },
        "yaxis": {
         "title": {
          "text": "Objective Value"
         }
        }
       }
      }
     },
     "metadata": {},
     "output_type": "display_data"
    }
   ],
   "source": [
    "plot_optimization_history(study)"
   ]
  },
  {
   "cell_type": "code",
   "execution_count": 40,
   "id": "e1430070-7b47-42b8-838e-4c40daac3c9f",
   "metadata": {},
   "outputs": [
    {
     "data": {
      "application/vnd.plotly.v1+json": {
       "config": {
        "plotlyServerURL": "https://plot.ly"
       },
       "data": [
        {
         "dimensions": [
          {
           "label": "Objective Value",
           "range": [
            0.07923766803194288,
            6.5109514191038835
           ],
           "values": [
            0.34679927393031085,
            0.07934790285463848,
            6.5109514191038835,
            0.34640641368466896,
            0.07930491376082585,
            0.07931857683364948,
            0.3004919765361937,
            0.12902721652852625,
            0.07934790285463848,
            0.07925548993853726,
            0.07928887188730428,
            0.1963798624230528,
            0.32369345459583865,
            3.68965029524367,
            0.5365101844163558,
            0.07924919837399509,
            0.07925814583947335,
            0.07929652624559312,
            0.5432951266150715,
            2.2164874641323724,
            0.07934790285463848,
            0.07925139823195004,
            1.350067993722633,
            0.5324778030163437,
            3.8945055383426155,
            0.12393115663401211,
            3.4758975965657357,
            4.676523088346819,
            4.17063911993579,
            0.8302308433988123,
            0.26842971056864384,
            1.9614443903000702,
            0.15222995308721968,
            1.9269390667675492,
            5.760259470530857,
            4.727610957465121,
            0.07924442335399681,
            0.07924080183988742,
            0.07923898642678603,
            0.07923819328304084,
            0.07923780375458753,
            0.07923832047937397,
            0.07926888711692706,
            1.353743098177906,
            2.558059844790504,
            0.07927275576652129,
            0.07923836607560675,
            0.07923779847384137,
            0.07934790285463848,
            0.07923766803194288
           ]
          },
          {
           "label": "model_name",
           "range": [
            0,
            4
           ],
           "ticktext": [
            "RF",
            "LR",
            "GBR",
            "RIDGE",
            "XGBR"
           ],
           "tickvals": [
            0,
            1,
            2,
            3,
            4
           ],
           "values": [
            0,
            1,
            2,
            0,
            3,
            3,
            2,
            0,
            1,
            3,
            3,
            4,
            2,
            2,
            0,
            3,
            3,
            3,
            0,
            2,
            1,
            3,
            4,
            4,
            2,
            4,
            2,
            2,
            2,
            2,
            2,
            4,
            4,
            4,
            4,
            4,
            3,
            3,
            3,
            3,
            3,
            3,
            3,
            4,
            4,
            3,
            3,
            3,
            1,
            3
           ]
          }
         ],
         "labelangle": 30,
         "labelside": "bottom",
         "line": {
          "color": [
           0.34679927393031085,
           0.07934790285463848,
           6.5109514191038835,
           0.34640641368466896,
           0.07930491376082585,
           0.07931857683364948,
           0.3004919765361937,
           0.12902721652852625,
           0.07934790285463848,
           0.07925548993853726,
           0.07928887188730428,
           0.1963798624230528,
           0.32369345459583865,
           3.68965029524367,
           0.5365101844163558,
           0.07924919837399509,
           0.07925814583947335,
           0.07929652624559312,
           0.5432951266150715,
           2.2164874641323724,
           0.07934790285463848,
           0.07925139823195004,
           1.350067993722633,
           0.5324778030163437,
           3.8945055383426155,
           0.12393115663401211,
           3.4758975965657357,
           4.676523088346819,
           4.17063911993579,
           0.8302308433988123,
           0.26842971056864384,
           1.9614443903000702,
           0.15222995308721968,
           1.9269390667675492,
           5.760259470530857,
           4.727610957465121,
           0.07924442335399681,
           0.07924080183988742,
           0.07923898642678603,
           0.07923819328304084,
           0.07923780375458753,
           0.07923832047937397,
           0.07926888711692706,
           1.353743098177906,
           2.558059844790504,
           0.07927275576652129,
           0.07923836607560675,
           0.07923779847384137,
           0.07934790285463848,
           0.07923766803194288
          ],
          "colorbar": {
           "title": {
            "text": "Objective Value"
           }
          },
          "colorscale": [
           [
            0,
            "rgb(247,251,255)"
           ],
           [
            0.125,
            "rgb(222,235,247)"
           ],
           [
            0.25,
            "rgb(198,219,239)"
           ],
           [
            0.375,
            "rgb(158,202,225)"
           ],
           [
            0.5,
            "rgb(107,174,214)"
           ],
           [
            0.625,
            "rgb(66,146,198)"
           ],
           [
            0.75,
            "rgb(33,113,181)"
           ],
           [
            0.875,
            "rgb(8,81,156)"
           ],
           [
            1,
            "rgb(8,48,107)"
           ]
          ],
          "reversescale": true,
          "showscale": true
         },
         "type": "parcoords"
        }
       ],
       "layout": {
        "template": {
         "data": {
          "bar": [
           {
            "error_x": {
             "color": "#2a3f5f"
            },
            "error_y": {
             "color": "#2a3f5f"
            },
            "marker": {
             "line": {
              "color": "#E5ECF6",
              "width": 0.5
             },
             "pattern": {
              "fillmode": "overlay",
              "size": 10,
              "solidity": 0.2
             }
            },
            "type": "bar"
           }
          ],
          "barpolar": [
           {
            "marker": {
             "line": {
              "color": "#E5ECF6",
              "width": 0.5
             },
             "pattern": {
              "fillmode": "overlay",
              "size": 10,
              "solidity": 0.2
             }
            },
            "type": "barpolar"
           }
          ],
          "carpet": [
           {
            "aaxis": {
             "endlinecolor": "#2a3f5f",
             "gridcolor": "white",
             "linecolor": "white",
             "minorgridcolor": "white",
             "startlinecolor": "#2a3f5f"
            },
            "baxis": {
             "endlinecolor": "#2a3f5f",
             "gridcolor": "white",
             "linecolor": "white",
             "minorgridcolor": "white",
             "startlinecolor": "#2a3f5f"
            },
            "type": "carpet"
           }
          ],
          "choropleth": [
           {
            "colorbar": {
             "outlinewidth": 0,
             "ticks": ""
            },
            "type": "choropleth"
           }
          ],
          "contour": [
           {
            "colorbar": {
             "outlinewidth": 0,
             "ticks": ""
            },
            "colorscale": [
             [
              0,
              "#0d0887"
             ],
             [
              0.1111111111111111,
              "#46039f"
             ],
             [
              0.2222222222222222,
              "#7201a8"
             ],
             [
              0.3333333333333333,
              "#9c179e"
             ],
             [
              0.4444444444444444,
              "#bd3786"
             ],
             [
              0.5555555555555556,
              "#d8576b"
             ],
             [
              0.6666666666666666,
              "#ed7953"
             ],
             [
              0.7777777777777778,
              "#fb9f3a"
             ],
             [
              0.8888888888888888,
              "#fdca26"
             ],
             [
              1,
              "#f0f921"
             ]
            ],
            "type": "contour"
           }
          ],
          "contourcarpet": [
           {
            "colorbar": {
             "outlinewidth": 0,
             "ticks": ""
            },
            "type": "contourcarpet"
           }
          ],
          "heatmap": [
           {
            "colorbar": {
             "outlinewidth": 0,
             "ticks": ""
            },
            "colorscale": [
             [
              0,
              "#0d0887"
             ],
             [
              0.1111111111111111,
              "#46039f"
             ],
             [
              0.2222222222222222,
              "#7201a8"
             ],
             [
              0.3333333333333333,
              "#9c179e"
             ],
             [
              0.4444444444444444,
              "#bd3786"
             ],
             [
              0.5555555555555556,
              "#d8576b"
             ],
             [
              0.6666666666666666,
              "#ed7953"
             ],
             [
              0.7777777777777778,
              "#fb9f3a"
             ],
             [
              0.8888888888888888,
              "#fdca26"
             ],
             [
              1,
              "#f0f921"
             ]
            ],
            "type": "heatmap"
           }
          ],
          "heatmapgl": [
           {
            "colorbar": {
             "outlinewidth": 0,
             "ticks": ""
            },
            "colorscale": [
             [
              0,
              "#0d0887"
             ],
             [
              0.1111111111111111,
              "#46039f"
             ],
             [
              0.2222222222222222,
              "#7201a8"
             ],
             [
              0.3333333333333333,
              "#9c179e"
             ],
             [
              0.4444444444444444,
              "#bd3786"
             ],
             [
              0.5555555555555556,
              "#d8576b"
             ],
             [
              0.6666666666666666,
              "#ed7953"
             ],
             [
              0.7777777777777778,
              "#fb9f3a"
             ],
             [
              0.8888888888888888,
              "#fdca26"
             ],
             [
              1,
              "#f0f921"
             ]
            ],
            "type": "heatmapgl"
           }
          ],
          "histogram": [
           {
            "marker": {
             "pattern": {
              "fillmode": "overlay",
              "size": 10,
              "solidity": 0.2
             }
            },
            "type": "histogram"
           }
          ],
          "histogram2d": [
           {
            "colorbar": {
             "outlinewidth": 0,
             "ticks": ""
            },
            "colorscale": [
             [
              0,
              "#0d0887"
             ],
             [
              0.1111111111111111,
              "#46039f"
             ],
             [
              0.2222222222222222,
              "#7201a8"
             ],
             [
              0.3333333333333333,
              "#9c179e"
             ],
             [
              0.4444444444444444,
              "#bd3786"
             ],
             [
              0.5555555555555556,
              "#d8576b"
             ],
             [
              0.6666666666666666,
              "#ed7953"
             ],
             [
              0.7777777777777778,
              "#fb9f3a"
             ],
             [
              0.8888888888888888,
              "#fdca26"
             ],
             [
              1,
              "#f0f921"
             ]
            ],
            "type": "histogram2d"
           }
          ],
          "histogram2dcontour": [
           {
            "colorbar": {
             "outlinewidth": 0,
             "ticks": ""
            },
            "colorscale": [
             [
              0,
              "#0d0887"
             ],
             [
              0.1111111111111111,
              "#46039f"
             ],
             [
              0.2222222222222222,
              "#7201a8"
             ],
             [
              0.3333333333333333,
              "#9c179e"
             ],
             [
              0.4444444444444444,
              "#bd3786"
             ],
             [
              0.5555555555555556,
              "#d8576b"
             ],
             [
              0.6666666666666666,
              "#ed7953"
             ],
             [
              0.7777777777777778,
              "#fb9f3a"
             ],
             [
              0.8888888888888888,
              "#fdca26"
             ],
             [
              1,
              "#f0f921"
             ]
            ],
            "type": "histogram2dcontour"
           }
          ],
          "mesh3d": [
           {
            "colorbar": {
             "outlinewidth": 0,
             "ticks": ""
            },
            "type": "mesh3d"
           }
          ],
          "parcoords": [
           {
            "line": {
             "colorbar": {
              "outlinewidth": 0,
              "ticks": ""
             }
            },
            "type": "parcoords"
           }
          ],
          "pie": [
           {
            "automargin": true,
            "type": "pie"
           }
          ],
          "scatter": [
           {
            "fillpattern": {
             "fillmode": "overlay",
             "size": 10,
             "solidity": 0.2
            },
            "type": "scatter"
           }
          ],
          "scatter3d": [
           {
            "line": {
             "colorbar": {
              "outlinewidth": 0,
              "ticks": ""
             }
            },
            "marker": {
             "colorbar": {
              "outlinewidth": 0,
              "ticks": ""
             }
            },
            "type": "scatter3d"
           }
          ],
          "scattercarpet": [
           {
            "marker": {
             "colorbar": {
              "outlinewidth": 0,
              "ticks": ""
             }
            },
            "type": "scattercarpet"
           }
          ],
          "scattergeo": [
           {
            "marker": {
             "colorbar": {
              "outlinewidth": 0,
              "ticks": ""
             }
            },
            "type": "scattergeo"
           }
          ],
          "scattergl": [
           {
            "marker": {
             "colorbar": {
              "outlinewidth": 0,
              "ticks": ""
             }
            },
            "type": "scattergl"
           }
          ],
          "scattermapbox": [
           {
            "marker": {
             "colorbar": {
              "outlinewidth": 0,
              "ticks": ""
             }
            },
            "type": "scattermapbox"
           }
          ],
          "scatterpolar": [
           {
            "marker": {
             "colorbar": {
              "outlinewidth": 0,
              "ticks": ""
             }
            },
            "type": "scatterpolar"
           }
          ],
          "scatterpolargl": [
           {
            "marker": {
             "colorbar": {
              "outlinewidth": 0,
              "ticks": ""
             }
            },
            "type": "scatterpolargl"
           }
          ],
          "scatterternary": [
           {
            "marker": {
             "colorbar": {
              "outlinewidth": 0,
              "ticks": ""
             }
            },
            "type": "scatterternary"
           }
          ],
          "surface": [
           {
            "colorbar": {
             "outlinewidth": 0,
             "ticks": ""
            },
            "colorscale": [
             [
              0,
              "#0d0887"
             ],
             [
              0.1111111111111111,
              "#46039f"
             ],
             [
              0.2222222222222222,
              "#7201a8"
             ],
             [
              0.3333333333333333,
              "#9c179e"
             ],
             [
              0.4444444444444444,
              "#bd3786"
             ],
             [
              0.5555555555555556,
              "#d8576b"
             ],
             [
              0.6666666666666666,
              "#ed7953"
             ],
             [
              0.7777777777777778,
              "#fb9f3a"
             ],
             [
              0.8888888888888888,
              "#fdca26"
             ],
             [
              1,
              "#f0f921"
             ]
            ],
            "type": "surface"
           }
          ],
          "table": [
           {
            "cells": {
             "fill": {
              "color": "#EBF0F8"
             },
             "line": {
              "color": "white"
             }
            },
            "header": {
             "fill": {
              "color": "#C8D4E3"
             },
             "line": {
              "color": "white"
             }
            },
            "type": "table"
           }
          ]
         },
         "layout": {
          "annotationdefaults": {
           "arrowcolor": "#2a3f5f",
           "arrowhead": 0,
           "arrowwidth": 1
          },
          "autotypenumbers": "strict",
          "coloraxis": {
           "colorbar": {
            "outlinewidth": 0,
            "ticks": ""
           }
          },
          "colorscale": {
           "diverging": [
            [
             0,
             "#8e0152"
            ],
            [
             0.1,
             "#c51b7d"
            ],
            [
             0.2,
             "#de77ae"
            ],
            [
             0.3,
             "#f1b6da"
            ],
            [
             0.4,
             "#fde0ef"
            ],
            [
             0.5,
             "#f7f7f7"
            ],
            [
             0.6,
             "#e6f5d0"
            ],
            [
             0.7,
             "#b8e186"
            ],
            [
             0.8,
             "#7fbc41"
            ],
            [
             0.9,
             "#4d9221"
            ],
            [
             1,
             "#276419"
            ]
           ],
           "sequential": [
            [
             0,
             "#0d0887"
            ],
            [
             0.1111111111111111,
             "#46039f"
            ],
            [
             0.2222222222222222,
             "#7201a8"
            ],
            [
             0.3333333333333333,
             "#9c179e"
            ],
            [
             0.4444444444444444,
             "#bd3786"
            ],
            [
             0.5555555555555556,
             "#d8576b"
            ],
            [
             0.6666666666666666,
             "#ed7953"
            ],
            [
             0.7777777777777778,
             "#fb9f3a"
            ],
            [
             0.8888888888888888,
             "#fdca26"
            ],
            [
             1,
             "#f0f921"
            ]
           ],
           "sequentialminus": [
            [
             0,
             "#0d0887"
            ],
            [
             0.1111111111111111,
             "#46039f"
            ],
            [
             0.2222222222222222,
             "#7201a8"
            ],
            [
             0.3333333333333333,
             "#9c179e"
            ],
            [
             0.4444444444444444,
             "#bd3786"
            ],
            [
             0.5555555555555556,
             "#d8576b"
            ],
            [
             0.6666666666666666,
             "#ed7953"
            ],
            [
             0.7777777777777778,
             "#fb9f3a"
            ],
            [
             0.8888888888888888,
             "#fdca26"
            ],
            [
             1,
             "#f0f921"
            ]
           ]
          },
          "colorway": [
           "#636efa",
           "#EF553B",
           "#00cc96",
           "#ab63fa",
           "#FFA15A",
           "#19d3f3",
           "#FF6692",
           "#B6E880",
           "#FF97FF",
           "#FECB52"
          ],
          "font": {
           "color": "#2a3f5f"
          },
          "geo": {
           "bgcolor": "white",
           "lakecolor": "white",
           "landcolor": "#E5ECF6",
           "showlakes": true,
           "showland": true,
           "subunitcolor": "white"
          },
          "hoverlabel": {
           "align": "left"
          },
          "hovermode": "closest",
          "mapbox": {
           "style": "light"
          },
          "paper_bgcolor": "white",
          "plot_bgcolor": "#E5ECF6",
          "polar": {
           "angularaxis": {
            "gridcolor": "white",
            "linecolor": "white",
            "ticks": ""
           },
           "bgcolor": "#E5ECF6",
           "radialaxis": {
            "gridcolor": "white",
            "linecolor": "white",
            "ticks": ""
           }
          },
          "scene": {
           "xaxis": {
            "backgroundcolor": "#E5ECF6",
            "gridcolor": "white",
            "gridwidth": 2,
            "linecolor": "white",
            "showbackground": true,
            "ticks": "",
            "zerolinecolor": "white"
           },
           "yaxis": {
            "backgroundcolor": "#E5ECF6",
            "gridcolor": "white",
            "gridwidth": 2,
            "linecolor": "white",
            "showbackground": true,
            "ticks": "",
            "zerolinecolor": "white"
           },
           "zaxis": {
            "backgroundcolor": "#E5ECF6",
            "gridcolor": "white",
            "gridwidth": 2,
            "linecolor": "white",
            "showbackground": true,
            "ticks": "",
            "zerolinecolor": "white"
           }
          },
          "shapedefaults": {
           "line": {
            "color": "#2a3f5f"
           }
          },
          "ternary": {
           "aaxis": {
            "gridcolor": "white",
            "linecolor": "white",
            "ticks": ""
           },
           "baxis": {
            "gridcolor": "white",
            "linecolor": "white",
            "ticks": ""
           },
           "bgcolor": "#E5ECF6",
           "caxis": {
            "gridcolor": "white",
            "linecolor": "white",
            "ticks": ""
           }
          },
          "title": {
           "x": 0.05
          },
          "xaxis": {
           "automargin": true,
           "gridcolor": "white",
           "linecolor": "white",
           "ticks": "",
           "title": {
            "standoff": 15
           },
           "zerolinecolor": "white",
           "zerolinewidth": 2
          },
          "yaxis": {
           "automargin": true,
           "gridcolor": "white",
           "linecolor": "white",
           "ticks": "",
           "title": {
            "standoff": 15
           },
           "zerolinecolor": "white",
           "zerolinewidth": 2
          }
         }
        },
        "title": {
         "text": "Parallel Coordinate Plot"
        }
       }
      }
     },
     "metadata": {},
     "output_type": "display_data"
    }
   ],
   "source": [
    "plot_parallel_coordinate(study, params=[\"model_name\"])"
   ]
  },
  {
   "cell_type": "code",
   "execution_count": 41,
   "id": "b0d31436-e008-4a05-a189-24c266ae4f3c",
   "metadata": {},
   "outputs": [
    {
     "data": {
      "application/vnd.plotly.v1+json": {
       "config": {
        "plotlyServerURL": "https://plot.ly"
       },
       "data": [
        {
         "dimensions": [
          {
           "label": "Objective Value",
           "range": [
            0.07923766803194288,
            0.07931857683364948
           ],
           "values": [
            0.07930491376082585,
            0.07931857683364948,
            0.07925548993853726,
            0.07928887188730428,
            0.07924919837399509,
            0.07925814583947335,
            0.07929652624559312,
            0.07925139823195004,
            0.07924442335399681,
            0.07924080183988742,
            0.07923898642678603,
            0.07923819328304084,
            0.07923780375458753,
            0.07923832047937397,
            0.07926888711692706,
            0.07927275576652129,
            0.07923836607560675,
            0.07923779847384137,
            0.07923766803194288
           ]
          },
          {
           "label": "ridge_alpha",
           "range": [
            11.02717437859067,
            49.936263310118676
           ],
           "values": [
            16.7133764765578,
            11.02717437859067,
            40.211406403122325,
            23.84435706521414,
            43.53965282297426,
            38.820808943313025,
            20.393252643204924,
            42.36841793653192,
            46.13170627563611,
            48.15802399822002,
            49.18434815636222,
            49.63609624379841,
            49.85865847846003,
            49.56344446477975,
            33.359696487401315,
            31.45229425383935,
            49.53740684667606,
            49.86167644879519,
            49.936263310118676
           ]
          }
         ],
         "labelangle": 30,
         "labelside": "bottom",
         "line": {
          "color": [
           0.07930491376082585,
           0.07931857683364948,
           0.07925548993853726,
           0.07928887188730428,
           0.07924919837399509,
           0.07925814583947335,
           0.07929652624559312,
           0.07925139823195004,
           0.07924442335399681,
           0.07924080183988742,
           0.07923898642678603,
           0.07923819328304084,
           0.07923780375458753,
           0.07923832047937397,
           0.07926888711692706,
           0.07927275576652129,
           0.07923836607560675,
           0.07923779847384137,
           0.07923766803194288
          ],
          "colorbar": {
           "title": {
            "text": "Objective Value"
           }
          },
          "colorscale": [
           [
            0,
            "rgb(247,251,255)"
           ],
           [
            0.125,
            "rgb(222,235,247)"
           ],
           [
            0.25,
            "rgb(198,219,239)"
           ],
           [
            0.375,
            "rgb(158,202,225)"
           ],
           [
            0.5,
            "rgb(107,174,214)"
           ],
           [
            0.625,
            "rgb(66,146,198)"
           ],
           [
            0.75,
            "rgb(33,113,181)"
           ],
           [
            0.875,
            "rgb(8,81,156)"
           ],
           [
            1,
            "rgb(8,48,107)"
           ]
          ],
          "reversescale": true,
          "showscale": true
         },
         "type": "parcoords"
        }
       ],
       "layout": {
        "template": {
         "data": {
          "bar": [
           {
            "error_x": {
             "color": "#2a3f5f"
            },
            "error_y": {
             "color": "#2a3f5f"
            },
            "marker": {
             "line": {
              "color": "#E5ECF6",
              "width": 0.5
             },
             "pattern": {
              "fillmode": "overlay",
              "size": 10,
              "solidity": 0.2
             }
            },
            "type": "bar"
           }
          ],
          "barpolar": [
           {
            "marker": {
             "line": {
              "color": "#E5ECF6",
              "width": 0.5
             },
             "pattern": {
              "fillmode": "overlay",
              "size": 10,
              "solidity": 0.2
             }
            },
            "type": "barpolar"
           }
          ],
          "carpet": [
           {
            "aaxis": {
             "endlinecolor": "#2a3f5f",
             "gridcolor": "white",
             "linecolor": "white",
             "minorgridcolor": "white",
             "startlinecolor": "#2a3f5f"
            },
            "baxis": {
             "endlinecolor": "#2a3f5f",
             "gridcolor": "white",
             "linecolor": "white",
             "minorgridcolor": "white",
             "startlinecolor": "#2a3f5f"
            },
            "type": "carpet"
           }
          ],
          "choropleth": [
           {
            "colorbar": {
             "outlinewidth": 0,
             "ticks": ""
            },
            "type": "choropleth"
           }
          ],
          "contour": [
           {
            "colorbar": {
             "outlinewidth": 0,
             "ticks": ""
            },
            "colorscale": [
             [
              0,
              "#0d0887"
             ],
             [
              0.1111111111111111,
              "#46039f"
             ],
             [
              0.2222222222222222,
              "#7201a8"
             ],
             [
              0.3333333333333333,
              "#9c179e"
             ],
             [
              0.4444444444444444,
              "#bd3786"
             ],
             [
              0.5555555555555556,
              "#d8576b"
             ],
             [
              0.6666666666666666,
              "#ed7953"
             ],
             [
              0.7777777777777778,
              "#fb9f3a"
             ],
             [
              0.8888888888888888,
              "#fdca26"
             ],
             [
              1,
              "#f0f921"
             ]
            ],
            "type": "contour"
           }
          ],
          "contourcarpet": [
           {
            "colorbar": {
             "outlinewidth": 0,
             "ticks": ""
            },
            "type": "contourcarpet"
           }
          ],
          "heatmap": [
           {
            "colorbar": {
             "outlinewidth": 0,
             "ticks": ""
            },
            "colorscale": [
             [
              0,
              "#0d0887"
             ],
             [
              0.1111111111111111,
              "#46039f"
             ],
             [
              0.2222222222222222,
              "#7201a8"
             ],
             [
              0.3333333333333333,
              "#9c179e"
             ],
             [
              0.4444444444444444,
              "#bd3786"
             ],
             [
              0.5555555555555556,
              "#d8576b"
             ],
             [
              0.6666666666666666,
              "#ed7953"
             ],
             [
              0.7777777777777778,
              "#fb9f3a"
             ],
             [
              0.8888888888888888,
              "#fdca26"
             ],
             [
              1,
              "#f0f921"
             ]
            ],
            "type": "heatmap"
           }
          ],
          "heatmapgl": [
           {
            "colorbar": {
             "outlinewidth": 0,
             "ticks": ""
            },
            "colorscale": [
             [
              0,
              "#0d0887"
             ],
             [
              0.1111111111111111,
              "#46039f"
             ],
             [
              0.2222222222222222,
              "#7201a8"
             ],
             [
              0.3333333333333333,
              "#9c179e"
             ],
             [
              0.4444444444444444,
              "#bd3786"
             ],
             [
              0.5555555555555556,
              "#d8576b"
             ],
             [
              0.6666666666666666,
              "#ed7953"
             ],
             [
              0.7777777777777778,
              "#fb9f3a"
             ],
             [
              0.8888888888888888,
              "#fdca26"
             ],
             [
              1,
              "#f0f921"
             ]
            ],
            "type": "heatmapgl"
           }
          ],
          "histogram": [
           {
            "marker": {
             "pattern": {
              "fillmode": "overlay",
              "size": 10,
              "solidity": 0.2
             }
            },
            "type": "histogram"
           }
          ],
          "histogram2d": [
           {
            "colorbar": {
             "outlinewidth": 0,
             "ticks": ""
            },
            "colorscale": [
             [
              0,
              "#0d0887"
             ],
             [
              0.1111111111111111,
              "#46039f"
             ],
             [
              0.2222222222222222,
              "#7201a8"
             ],
             [
              0.3333333333333333,
              "#9c179e"
             ],
             [
              0.4444444444444444,
              "#bd3786"
             ],
             [
              0.5555555555555556,
              "#d8576b"
             ],
             [
              0.6666666666666666,
              "#ed7953"
             ],
             [
              0.7777777777777778,
              "#fb9f3a"
             ],
             [
              0.8888888888888888,
              "#fdca26"
             ],
             [
              1,
              "#f0f921"
             ]
            ],
            "type": "histogram2d"
           }
          ],
          "histogram2dcontour": [
           {
            "colorbar": {
             "outlinewidth": 0,
             "ticks": ""
            },
            "colorscale": [
             [
              0,
              "#0d0887"
             ],
             [
              0.1111111111111111,
              "#46039f"
             ],
             [
              0.2222222222222222,
              "#7201a8"
             ],
             [
              0.3333333333333333,
              "#9c179e"
             ],
             [
              0.4444444444444444,
              "#bd3786"
             ],
             [
              0.5555555555555556,
              "#d8576b"
             ],
             [
              0.6666666666666666,
              "#ed7953"
             ],
             [
              0.7777777777777778,
              "#fb9f3a"
             ],
             [
              0.8888888888888888,
              "#fdca26"
             ],
             [
              1,
              "#f0f921"
             ]
            ],
            "type": "histogram2dcontour"
           }
          ],
          "mesh3d": [
           {
            "colorbar": {
             "outlinewidth": 0,
             "ticks": ""
            },
            "type": "mesh3d"
           }
          ],
          "parcoords": [
           {
            "line": {
             "colorbar": {
              "outlinewidth": 0,
              "ticks": ""
             }
            },
            "type": "parcoords"
           }
          ],
          "pie": [
           {
            "automargin": true,
            "type": "pie"
           }
          ],
          "scatter": [
           {
            "fillpattern": {
             "fillmode": "overlay",
             "size": 10,
             "solidity": 0.2
            },
            "type": "scatter"
           }
          ],
          "scatter3d": [
           {
            "line": {
             "colorbar": {
              "outlinewidth": 0,
              "ticks": ""
             }
            },
            "marker": {
             "colorbar": {
              "outlinewidth": 0,
              "ticks": ""
             }
            },
            "type": "scatter3d"
           }
          ],
          "scattercarpet": [
           {
            "marker": {
             "colorbar": {
              "outlinewidth": 0,
              "ticks": ""
             }
            },
            "type": "scattercarpet"
           }
          ],
          "scattergeo": [
           {
            "marker": {
             "colorbar": {
              "outlinewidth": 0,
              "ticks": ""
             }
            },
            "type": "scattergeo"
           }
          ],
          "scattergl": [
           {
            "marker": {
             "colorbar": {
              "outlinewidth": 0,
              "ticks": ""
             }
            },
            "type": "scattergl"
           }
          ],
          "scattermapbox": [
           {
            "marker": {
             "colorbar": {
              "outlinewidth": 0,
              "ticks": ""
             }
            },
            "type": "scattermapbox"
           }
          ],
          "scatterpolar": [
           {
            "marker": {
             "colorbar": {
              "outlinewidth": 0,
              "ticks": ""
             }
            },
            "type": "scatterpolar"
           }
          ],
          "scatterpolargl": [
           {
            "marker": {
             "colorbar": {
              "outlinewidth": 0,
              "ticks": ""
             }
            },
            "type": "scatterpolargl"
           }
          ],
          "scatterternary": [
           {
            "marker": {
             "colorbar": {
              "outlinewidth": 0,
              "ticks": ""
             }
            },
            "type": "scatterternary"
           }
          ],
          "surface": [
           {
            "colorbar": {
             "outlinewidth": 0,
             "ticks": ""
            },
            "colorscale": [
             [
              0,
              "#0d0887"
             ],
             [
              0.1111111111111111,
              "#46039f"
             ],
             [
              0.2222222222222222,
              "#7201a8"
             ],
             [
              0.3333333333333333,
              "#9c179e"
             ],
             [
              0.4444444444444444,
              "#bd3786"
             ],
             [
              0.5555555555555556,
              "#d8576b"
             ],
             [
              0.6666666666666666,
              "#ed7953"
             ],
             [
              0.7777777777777778,
              "#fb9f3a"
             ],
             [
              0.8888888888888888,
              "#fdca26"
             ],
             [
              1,
              "#f0f921"
             ]
            ],
            "type": "surface"
           }
          ],
          "table": [
           {
            "cells": {
             "fill": {
              "color": "#EBF0F8"
             },
             "line": {
              "color": "white"
             }
            },
            "header": {
             "fill": {
              "color": "#C8D4E3"
             },
             "line": {
              "color": "white"
             }
            },
            "type": "table"
           }
          ]
         },
         "layout": {
          "annotationdefaults": {
           "arrowcolor": "#2a3f5f",
           "arrowhead": 0,
           "arrowwidth": 1
          },
          "autotypenumbers": "strict",
          "coloraxis": {
           "colorbar": {
            "outlinewidth": 0,
            "ticks": ""
           }
          },
          "colorscale": {
           "diverging": [
            [
             0,
             "#8e0152"
            ],
            [
             0.1,
             "#c51b7d"
            ],
            [
             0.2,
             "#de77ae"
            ],
            [
             0.3,
             "#f1b6da"
            ],
            [
             0.4,
             "#fde0ef"
            ],
            [
             0.5,
             "#f7f7f7"
            ],
            [
             0.6,
             "#e6f5d0"
            ],
            [
             0.7,
             "#b8e186"
            ],
            [
             0.8,
             "#7fbc41"
            ],
            [
             0.9,
             "#4d9221"
            ],
            [
             1,
             "#276419"
            ]
           ],
           "sequential": [
            [
             0,
             "#0d0887"
            ],
            [
             0.1111111111111111,
             "#46039f"
            ],
            [
             0.2222222222222222,
             "#7201a8"
            ],
            [
             0.3333333333333333,
             "#9c179e"
            ],
            [
             0.4444444444444444,
             "#bd3786"
            ],
            [
             0.5555555555555556,
             "#d8576b"
            ],
            [
             0.6666666666666666,
             "#ed7953"
            ],
            [
             0.7777777777777778,
             "#fb9f3a"
            ],
            [
             0.8888888888888888,
             "#fdca26"
            ],
            [
             1,
             "#f0f921"
            ]
           ],
           "sequentialminus": [
            [
             0,
             "#0d0887"
            ],
            [
             0.1111111111111111,
             "#46039f"
            ],
            [
             0.2222222222222222,
             "#7201a8"
            ],
            [
             0.3333333333333333,
             "#9c179e"
            ],
            [
             0.4444444444444444,
             "#bd3786"
            ],
            [
             0.5555555555555556,
             "#d8576b"
            ],
            [
             0.6666666666666666,
             "#ed7953"
            ],
            [
             0.7777777777777778,
             "#fb9f3a"
            ],
            [
             0.8888888888888888,
             "#fdca26"
            ],
            [
             1,
             "#f0f921"
            ]
           ]
          },
          "colorway": [
           "#636efa",
           "#EF553B",
           "#00cc96",
           "#ab63fa",
           "#FFA15A",
           "#19d3f3",
           "#FF6692",
           "#B6E880",
           "#FF97FF",
           "#FECB52"
          ],
          "font": {
           "color": "#2a3f5f"
          },
          "geo": {
           "bgcolor": "white",
           "lakecolor": "white",
           "landcolor": "#E5ECF6",
           "showlakes": true,
           "showland": true,
           "subunitcolor": "white"
          },
          "hoverlabel": {
           "align": "left"
          },
          "hovermode": "closest",
          "mapbox": {
           "style": "light"
          },
          "paper_bgcolor": "white",
          "plot_bgcolor": "#E5ECF6",
          "polar": {
           "angularaxis": {
            "gridcolor": "white",
            "linecolor": "white",
            "ticks": ""
           },
           "bgcolor": "#E5ECF6",
           "radialaxis": {
            "gridcolor": "white",
            "linecolor": "white",
            "ticks": ""
           }
          },
          "scene": {
           "xaxis": {
            "backgroundcolor": "#E5ECF6",
            "gridcolor": "white",
            "gridwidth": 2,
            "linecolor": "white",
            "showbackground": true,
            "ticks": "",
            "zerolinecolor": "white"
           },
           "yaxis": {
            "backgroundcolor": "#E5ECF6",
            "gridcolor": "white",
            "gridwidth": 2,
            "linecolor": "white",
            "showbackground": true,
            "ticks": "",
            "zerolinecolor": "white"
           },
           "zaxis": {
            "backgroundcolor": "#E5ECF6",
            "gridcolor": "white",
            "gridwidth": 2,
            "linecolor": "white",
            "showbackground": true,
            "ticks": "",
            "zerolinecolor": "white"
           }
          },
          "shapedefaults": {
           "line": {
            "color": "#2a3f5f"
           }
          },
          "ternary": {
           "aaxis": {
            "gridcolor": "white",
            "linecolor": "white",
            "ticks": ""
           },
           "baxis": {
            "gridcolor": "white",
            "linecolor": "white",
            "ticks": ""
           },
           "bgcolor": "#E5ECF6",
           "caxis": {
            "gridcolor": "white",
            "linecolor": "white",
            "ticks": ""
           }
          },
          "title": {
           "x": 0.05
          },
          "xaxis": {
           "automargin": true,
           "gridcolor": "white",
           "linecolor": "white",
           "ticks": "",
           "title": {
            "standoff": 15
           },
           "zerolinecolor": "white",
           "zerolinewidth": 2
          },
          "yaxis": {
           "automargin": true,
           "gridcolor": "white",
           "linecolor": "white",
           "ticks": "",
           "title": {
            "standoff": 15
           },
           "zerolinecolor": "white",
           "zerolinewidth": 2
          }
         }
        },
        "title": {
         "text": "Parallel Coordinate Plot"
        }
       }
      }
     },
     "metadata": {},
     "output_type": "display_data"
    }
   ],
   "source": [
    "plot_parallel_coordinate(study, params=[\"ridge_alpha\"])"
   ]
  },
  {
   "cell_type": "code",
   "execution_count": 42,
   "id": "b637e4ba-a17c-45af-9662-4c4855fb72ac",
   "metadata": {},
   "outputs": [
    {
     "name": "stdout",
     "output_type": "stream",
     "text": [
      "The training error is  0.08778013304566863\n",
      "The test error is  0.07934790285463848\n"
     ]
    }
   ],
   "source": [
    "# train the linear regression model\n",
    "\n",
    "lr = LinearRegression()\n",
    "\n",
    "lr.fit(X_train_encoded, y_train)\n",
    "\n",
    "# get predictions\n",
    "y_pred_train = lr.predict(X_train_encoded) \n",
    "y_pred_test = lr.predict(X_test_encoded)\n",
    "\n",
    "# loss\n",
    "\n",
    "mape_train = mean_absolute_percentage_error(y_train, y_pred_train)\n",
    "mape_test = mean_absolute_percentage_error(y_test, y_pred_test)\n",
    "\n",
    "print(\"The training error is \", mape_train)\n",
    "print(\"The test error is \", mape_test)"
   ]
  },
  {
   "cell_type": "code",
   "execution_count": 43,
   "id": "bc4769c1-ed8d-40aa-b6e3-26fddfb17eb2",
   "metadata": {},
   "outputs": [
    {
     "name": "stdout",
     "output_type": "stream",
     "text": [
      "The training error is  0.08755473541879122\n",
      "The test error is  0.0792375565878739\n"
     ]
    }
   ],
   "source": [
    "# train the ridge regression model\n",
    "\n",
    "ridge = Ridge(alpha=50, random_state=42)\n",
    "\n",
    "ridge.fit(X_train_encoded, y_train)\n",
    "\n",
    "# get predictions\n",
    "y_pred_train = ridge.predict(X_train_encoded) \n",
    "y_pred_test = ridge.predict(X_test_encoded)\n",
    "\n",
    "# loss\n",
    "\n",
    "mape_train = mean_absolute_percentage_error(y_train, y_pred_train)\n",
    "mape_test = mean_absolute_percentage_error(y_test, y_pred_test)\n",
    "\n",
    "print(\"The training error is \", mape_train)\n",
    "print(\"The test error is \", mape_test)"
   ]
  },
  {
   "cell_type": "code",
   "execution_count": 44,
   "id": "38cb6832-6427-41ec-88d9-f141dac4e35f",
   "metadata": {},
   "outputs": [],
   "source": [
    "def tune_ridge(trial):\n",
    "    # hyperparameter space\n",
    "    alpha = trial.suggest_float(\"alpha\",30,100)\n",
    "    \n",
    "    # make the model object\n",
    "    ridge = Ridge(alpha=alpha, random_state=42)\n",
    "    \n",
    "    # train the model\n",
    "    ridge.fit(X_train_encoded, y_train)\n",
    "    \n",
    "    # get predictions\n",
    "    y_pred = ridge.predict(X_test_encoded)\n",
    "    \n",
    "    # calculate loss\n",
    "    loss = mean_absolute_percentage_error(y_test, y_pred)\n",
    "\n",
    "    return loss\n",
    "        "
   ]
  },
  {
   "cell_type": "code",
   "execution_count": 45,
   "id": "3bf196aa-e39a-429c-b1f8-67881330a389",
   "metadata": {},
   "outputs": [
    {
     "name": "stderr",
     "output_type": "stream",
     "text": [
      "[I 2025-02-28 20:06:40,525] A new study created in memory with name: tune_model\n"
     ]
    }
   ],
   "source": [
    "# create study\n",
    "\n",
    "study = optuna.create_study(study_name=\"tune_model\", direction=\"minimize\")"
   ]
  },
  {
   "cell_type": "code",
   "execution_count": 46,
   "id": "fb61c41e-1479-4d26-8faf-fdf3643c2a51",
   "metadata": {},
   "outputs": [
    {
     "data": {
      "application/vnd.jupyter.widget-view+json": {
       "model_id": "99db1ef8b2274f59bb3f20f8cf3930f5",
       "version_major": 2,
       "version_minor": 0
      },
      "text/plain": [
       "  0%|          | 0/100 [00:00<?, ?it/s]"
      ]
     },
     "metadata": {},
     "output_type": "display_data"
    },
    {
     "name": "stdout",
     "output_type": "stream",
     "text": [
      "[I 2025-02-28 20:06:40,956] Trial 1 finished with value: 0.07921031715203952 and parameters: {'alpha': 66.67705562301495}. Best is trial 1 with value: 0.07921031715203952.\n",
      "[I 2025-02-28 20:06:41,054] Trial 0 finished with value: 0.0792428784329709 and parameters: {'alpha': 46.99358594033973}. Best is trial 1 with value: 0.07921031715203952.\n",
      "[I 2025-02-28 20:06:41,461] Trial 5 finished with value: 0.07917688196523001 and parameters: {'alpha': 89.98730182618453}. Best is trial 5 with value: 0.07917688196523001.\n",
      "[I 2025-02-28 20:06:41,472] Trial 3 finished with value: 0.07920240504599312 and parameters: {'alpha': 71.93693905423434}. Best is trial 5 with value: 0.07917688196523001.\n",
      "[I 2025-02-28 20:06:41,542] Trial 2 finished with value: 0.07923652747402643 and parameters: {'alpha': 50.59079140250324}. Best is trial 5 with value: 0.07917688196523001.\n",
      "[I 2025-02-28 20:06:41,566] Trial 12 finished with value: 0.07918597692361315 and parameters: {'alpha': 83.30717340687372}. Best is trial 5 with value: 0.07917688196523001.\n",
      "[I 2025-02-28 20:06:41,568] Trial 8 finished with value: 0.0791676917194419 and parameters: {'alpha': 97.07142029857646}. Best is trial 8 with value: 0.0791676917194419.\n",
      "[I 2025-02-28 20:06:41,572] Trial 10 finished with value: 0.07926003737699153 and parameters: {'alpha': 37.840254465927124}. Best is trial 8 with value: 0.0791676917194419.\n",
      "[I 2025-02-28 20:06:41,584] Trial 4 finished with value: 0.07917753540882516 and parameters: {'alpha': 89.49898964284088}. Best is trial 8 with value: 0.0791676917194419.\n",
      "[I 2025-02-28 20:06:41,610] Trial 7 finished with value: 0.07916647324634382 and parameters: {'alpha': 98.04902988722635}. Best is trial 7 with value: 0.07916647324634382.\n",
      "[I 2025-02-28 20:06:41,644] Trial 9 finished with value: 0.07919227261905543 and parameters: {'alpha': 78.86827369438403}. Best is trial 7 with value: 0.07916647324634382.\n",
      "[I 2025-02-28 20:06:41,647] Trial 11 finished with value: 0.0792501263495367 and parameters: {'alpha': 43.044780513491126}. Best is trial 7 with value: 0.07916647324634382.\n",
      "[I 2025-02-28 20:06:41,649] Trial 13 finished with value: 0.07926316417883228 and parameters: {'alpha': 36.24008151367207}. Best is trial 7 with value: 0.07916647324634382.\n",
      "[I 2025-02-28 20:06:41,668] Trial 15 finished with value: 0.07921862423936475 and parameters: {'alpha': 61.36098628039032}. Best is trial 7 with value: 0.07916647324634382.\n",
      "[I 2025-02-28 20:06:41,706] Trial 6 finished with value: 0.07920857044176291 and parameters: {'alpha': 67.8243651999943}. Best is trial 7 with value: 0.07916647324634382.\n",
      "[I 2025-02-28 20:06:41,734] Trial 14 finished with value: 0.07925511877528267 and parameters: {'alpha': 40.40637779047947}. Best is trial 7 with value: 0.07916647324634382.\n",
      "[I 2025-02-28 20:06:41,749] Trial 16 finished with value: 0.07919633594737073 and parameters: {'alpha': 76.06254821190385}. Best is trial 7 with value: 0.07916647324634382.\n",
      "[I 2025-02-28 20:06:41,928] Trial 17 finished with value: 0.07919647051803412 and parameters: {'alpha': 75.97038396272102}. Best is trial 7 with value: 0.07916647324634382.\n",
      "[I 2025-02-28 20:06:42,044] Trial 18 finished with value: 0.07916742519625643 and parameters: {'alpha': 97.28421510183765}. Best is trial 7 with value: 0.07916647324634382.\n",
      "[I 2025-02-28 20:06:42,167] Trial 20 finished with value: 0.07916508178719178 and parameters: {'alpha': 99.17256187683594}. Best is trial 20 with value: 0.07916508178719178.\n",
      "[I 2025-02-28 20:06:42,167] Trial 19 finished with value: 0.07917008011088529 and parameters: {'alpha': 95.17773702519689}. Best is trial 20 with value: 0.07916508178719178.\n",
      "[I 2025-02-28 20:06:42,232] Trial 22 finished with value: 0.07916423486290602 and parameters: {'alpha': 99.86208538034604}. Best is trial 22 with value: 0.07916423486290602.\n",
      "[I 2025-02-28 20:06:42,236] Trial 21 finished with value: 0.07916829494453777 and parameters: {'alpha': 96.59111789909426}. Best is trial 22 with value: 0.07916423486290602.\n",
      "[I 2025-02-28 20:06:42,265] Trial 24 finished with value: 0.07916467957525353 and parameters: {'alpha': 99.49991539216651}. Best is trial 22 with value: 0.07916423486290602.\n",
      "[I 2025-02-28 20:06:42,265] Trial 23 finished with value: 0.07916514151259059 and parameters: {'alpha': 99.12407059724907}. Best is trial 22 with value: 0.07916423486290602.\n",
      "[I 2025-02-28 20:06:42,477] Trial 26 finished with value: 0.07916624728806468 and parameters: {'alpha': 98.23110634351139}. Best is trial 22 with value: 0.07916423486290602.\n",
      "[I 2025-02-28 20:06:42,513] Trial 27 finished with value: 0.07916517857495615 and parameters: {'alpha': 99.09401924932347}. Best is trial 22 with value: 0.07916423486290602.\n",
      "[I 2025-02-28 20:06:42,601] Trial 25 finished with value: 0.0791655381518959 and parameters: {'alpha': 98.80291592691773}. Best is trial 22 with value: 0.07916423486290602.\n",
      "[I 2025-02-28 20:06:42,740] Trial 28 finished with value: 0.0791803125046291 and parameters: {'alpha': 87.43615060494167}. Best is trial 22 with value: 0.07916423486290602.\n",
      "[I 2025-02-28 20:06:42,792] Trial 31 finished with value: 0.07918003692474347 and parameters: {'alpha': 87.64009199829098}. Best is trial 22 with value: 0.07916423486290602.\n",
      "[I 2025-02-28 20:06:42,864] Trial 33 finished with value: 0.07918163816692732 and parameters: {'alpha': 86.45826173847853}. Best is trial 22 with value: 0.07916423486290602.\n",
      "[I 2025-02-28 20:06:42,986] Trial 34 finished with value: 0.07917969264095567 and parameters: {'alpha': 87.89493745644356}. Best is trial 22 with value: 0.07916423486290602.\n",
      "[I 2025-02-28 20:06:43,232] Trial 30 finished with value: 0.07918053636754604 and parameters: {'alpha': 87.27066020844995}. Best is trial 22 with value: 0.07916423486290602.\n",
      "[I 2025-02-28 20:06:43,239] Trial 36 finished with value: 0.07917871974294358 and parameters: {'alpha': 88.61688540278377}. Best is trial 22 with value: 0.07916423486290602.\n",
      "[I 2025-02-28 20:06:43,258] Trial 38 finished with value: 0.07918060131418507 and parameters: {'alpha': 87.222667090629}. Best is trial 22 with value: 0.07916423486290602.\n",
      "[I 2025-02-28 20:06:43,259] Trial 32 finished with value: 0.0791782794274696 and parameters: {'alpha': 88.94455848583316}. Best is trial 22 with value: 0.07916423486290602.\n",
      "[I 2025-02-28 20:06:43,261] Trial 35 finished with value: 0.07917881731560342 and parameters: {'alpha': 88.54437086171973}. Best is trial 22 with value: 0.07916423486290602.\n",
      "[I 2025-02-28 20:06:43,266] Trial 37 finished with value: 0.07917822155113313 and parameters: {'alpha': 88.98766821234645}. Best is trial 22 with value: 0.07916423486290602.\n",
      "[I 2025-02-28 20:06:43,266] Trial 40 finished with value: 0.07922250037606672 and parameters: {'alpha': 58.94555157004021}. Best is trial 22 with value: 0.07916423486290602.\n",
      "[I 2025-02-28 20:06:43,705] Trial 45 finished with value: 0.0791717444645159 and parameters: {'alpha': 93.88420622320935}. Best is trial 22 with value: 0.07916423486290602.\n",
      "[I 2025-02-28 20:06:43,278] Trial 39 finished with value: 0.07917824832261289 and parameters: {'alpha': 88.96772700323272}. Best is trial 22 with value: 0.07916423486290602.\n",
      "[I 2025-02-28 20:06:43,609] Trial 42 finished with value: 0.07927401864291561 and parameters: {'alpha': 30.83413811533329}. Best is trial 22 with value: 0.07916423486290602.\n",
      "[I 2025-02-28 20:06:43,611] Trial 41 finished with value: 0.07917340943262038 and parameters: {'alpha': 92.6099076974426}. Best is trial 22 with value: 0.07916423486290602.\n",
      "[I 2025-02-28 20:06:43,666] Trial 43 finished with value: 0.07917228901605063 and parameters: {'alpha': 93.4664754575293}. Best is trial 22 with value: 0.07916423486290602.\n",
      "[I 2025-02-28 20:06:43,266] Trial 29 finished with value: 0.07918103791535051 and parameters: {'alpha': 86.9002981374502}. Best is trial 22 with value: 0.07916423486290602.\n",
      "[I 2025-02-28 20:06:43,982] Trial 46 finished with value: 0.07917273170191448 and parameters: {'alpha': 93.12751966805976}. Best is trial 22 with value: 0.07916423486290602.\n",
      "[I 2025-02-28 20:06:44,001] Trial 47 finished with value: 0.07917254256625623 and parameters: {'alpha': 93.2723186364257}. Best is trial 22 with value: 0.07916423486290602.\n",
      "[I 2025-02-28 20:06:44,007] Trial 44 finished with value: 0.0791727037262564 and parameters: {'alpha': 93.14893621725761}. Best is trial 22 with value: 0.07916423486290602.\n",
      "[I 2025-02-28 20:06:44,012] Trial 50 finished with value: 0.0791716813656261 and parameters: {'alpha': 93.93270231490638}. Best is trial 22 with value: 0.07916423486290602.\n",
      "[I 2025-02-28 20:06:44,033] Trial 48 finished with value: 0.07917233069881371 and parameters: {'alpha': 93.43455364341713}. Best is trial 22 with value: 0.07916423486290602.\n",
      "[I 2025-02-28 20:06:44,054] Trial 49 finished with value: 0.07917202568141027 and parameters: {'alpha': 93.66830797742145}. Best is trial 22 with value: 0.07916423486290602.\n",
      "[I 2025-02-28 20:06:44,206] Trial 52 finished with value: 0.07916423695669496 and parameters: {'alpha': 99.86037986326407}. Best is trial 22 with value: 0.07916423486290602.\n",
      "[I 2025-02-28 20:06:44,372] Trial 53 finished with value: 0.07916434778259308 and parameters: {'alpha': 99.77010879716705}. Best is trial 22 with value: 0.07916423486290602.\n",
      "[I 2025-02-28 20:06:44,416] Trial 54 finished with value: 0.07916408336413581 and parameters: {'alpha': 99.98549650125365}. Best is trial 54 with value: 0.07916408336413581.\n",
      "[I 2025-02-28 20:06:44,419] Trial 56 finished with value: 0.0791642413861183 and parameters: {'alpha': 99.85677183598457}. Best is trial 54 with value: 0.07916408336413581.\n",
      "[I 2025-02-28 20:06:44,474] Trial 57 finished with value: 0.07916410014467991 and parameters: {'alpha': 99.97182644196958}. Best is trial 54 with value: 0.07916408336413581.\n",
      "[I 2025-02-28 20:06:44,484] Trial 55 finished with value: 0.07918989174204052 and parameters: {'alpha': 80.53612799719903}. Best is trial 54 with value: 0.07916408336413581.\n",
      "[I 2025-02-28 20:06:44,495] Trial 51 finished with value: 0.07917277286287348 and parameters: {'alpha': 93.0960099283828}. Best is trial 54 with value: 0.07916408336413581.\n",
      "[I 2025-02-28 20:06:44,537] Trial 58 finished with value: 0.07916436201376542 and parameters: {'alpha': 99.75851754907973}. Best is trial 54 with value: 0.07916408336413581.\n",
      "[I 2025-02-28 20:06:44,574] Trial 59 finished with value: 0.07916407478061059 and parameters: {'alpha': 99.99248902029561}. Best is trial 59 with value: 0.07916407478061059.\n",
      "[I 2025-02-28 20:06:44,754] Trial 61 finished with value: 0.07918701697973722 and parameters: {'alpha': 82.56364937895576}. Best is trial 59 with value: 0.07916407478061059.\n",
      "[I 2025-02-28 20:06:44,832] Trial 60 finished with value: 0.07916413673010488 and parameters: {'alpha': 99.94202310757659}. Best is trial 59 with value: 0.07916407478061059.\n",
      "[I 2025-02-28 20:06:44,876] Trial 62 finished with value: 0.07916827706065782 and parameters: {'alpha': 96.60532688350084}. Best is trial 59 with value: 0.07916407478061059.\n",
      "[I 2025-02-28 20:06:44,961] Trial 64 finished with value: 0.07918643751983466 and parameters: {'alpha': 82.97691865664561}. Best is trial 59 with value: 0.07916407478061059.\n",
      "[I 2025-02-28 20:06:45,139] Trial 63 finished with value: 0.07918609521578028 and parameters: {'alpha': 83.22227976138012}. Best is trial 59 with value: 0.07916407478061059.\n",
      "[I 2025-02-28 20:06:45,161] Trial 67 finished with value: 0.07916892161730849 and parameters: {'alpha': 96.0934385945589}. Best is trial 59 with value: 0.07916407478061059.\n",
      "[I 2025-02-28 20:06:45,207] Trial 66 finished with value: 0.07918522438516769 and parameters: {'alpha': 83.84801547675522}. Best is trial 59 with value: 0.07916407478061059.\n",
      "[I 2025-02-28 20:06:45,213] Trial 65 finished with value: 0.07923724690210639 and parameters: {'alpha': 50.177322597997644}. Best is trial 59 with value: 0.07916407478061059.\n",
      "[I 2025-02-28 20:06:45,237] Trial 69 finished with value: 0.07918507743235041 and parameters: {'alpha': 83.95388525230447}. Best is trial 59 with value: 0.07916407478061059.\n",
      "[I 2025-02-28 20:06:45,246] Trial 68 finished with value: 0.07916916229345247 and parameters: {'alpha': 95.90237070467028}. Best is trial 59 with value: 0.07916407478061059.\n",
      "[I 2025-02-28 20:06:45,266] Trial 70 finished with value: 0.07916917333429226 and parameters: {'alpha': 95.89360632675634}. Best is trial 59 with value: 0.07916407478061059.\n",
      "[I 2025-02-28 20:06:45,309] Trial 71 finished with value: 0.07916957367416737 and parameters: {'alpha': 95.5758738842742}. Best is trial 59 with value: 0.07916407478061059.\n",
      "[I 2025-02-28 20:06:45,366] Trial 72 finished with value: 0.07923494838871822 and parameters: {'alpha': 51.50485107700234}. Best is trial 59 with value: 0.07916407478061059.\n",
      "[I 2025-02-28 20:06:45,517] Trial 74 finished with value: 0.0791678570489554 and parameters: {'alpha': 96.93945139714678}. Best is trial 59 with value: 0.07916407478061059.\n",
      "[I 2025-02-28 20:06:45,517] Trial 73 finished with value: 0.07916816861533339 and parameters: {'alpha': 96.69149171813795}. Best is trial 59 with value: 0.07916407478061059.\n",
      "[I 2025-02-28 20:06:45,603] Trial 75 finished with value: 0.07917607808249989 and parameters: {'alpha': 90.59014762910626}. Best is trial 59 with value: 0.07916407478061059.\n",
      "[I 2025-02-28 20:06:45,661] Trial 76 finished with value: 0.07917549117675507 and parameters: {'alpha': 91.03251580890642}. Best is trial 59 with value: 0.07916407478061059.\n",
      "[I 2025-02-28 20:06:45,715] Trial 78 finished with value: 0.0791643962429906 and parameters: {'alpha': 99.73063838836671}. Best is trial 59 with value: 0.07916407478061059.\n",
      "[I 2025-02-28 20:06:45,742] Trial 77 finished with value: 0.07916408373695942 and parameters: {'alpha': 99.98519278189278}. Best is trial 59 with value: 0.07916407478061059.\n",
      "[I 2025-02-28 20:06:45,856] Trial 79 finished with value: 0.07916720319784765 and parameters: {'alpha': 97.46166072967658}. Best is trial 59 with value: 0.07916407478061059.\n",
      "[I 2025-02-28 20:06:45,952] Trial 81 finished with value: 0.07917576193089955 and parameters: {'alpha': 90.82822308816795}. Best is trial 59 with value: 0.07916407478061059.\n",
      "[I 2025-02-28 20:06:45,980] Trial 82 finished with value: 0.0791642944921515 and parameters: {'alpha': 99.81351466470656}. Best is trial 59 with value: 0.07916407478061059.\n",
      "[I 2025-02-28 20:06:46,170] Trial 80 finished with value: 0.07916414160654832 and parameters: {'alpha': 99.93805069620113}. Best is trial 59 with value: 0.07916407478061059.\n",
      "[I 2025-02-28 20:06:46,291] Trial 85 finished with value: 0.07920188726755815 and parameters: {'alpha': 72.28638492708708}. Best is trial 59 with value: 0.07916407478061059.\n",
      "[I 2025-02-28 20:06:46,291] Trial 84 finished with value: 0.07916602151162773 and parameters: {'alpha': 98.41306338573328}. Best is trial 59 with value: 0.07916407478061059.\n",
      "[I 2025-02-28 20:06:46,293] Trial 83 finished with value: 0.07916619770243273 and parameters: {'alpha': 98.27106592038375}. Best is trial 59 with value: 0.07916407478061059.\n",
      "[I 2025-02-28 20:06:46,316] Trial 86 finished with value: 0.0791666234039521 and parameters: {'alpha': 97.92804838015113}. Best is trial 59 with value: 0.07916407478061059.\n",
      "[I 2025-02-28 20:06:46,332] Trial 89 finished with value: 0.07920297253352607 and parameters: {'alpha': 71.55463143289406}. Best is trial 59 with value: 0.07916407478061059.\n",
      "[I 2025-02-28 20:06:46,349] Trial 88 finished with value: 0.07920204640266236 and parameters: {'alpha': 72.17896330114053}. Best is trial 59 with value: 0.07916407478061059.\n",
      "[I 2025-02-28 20:06:46,365] Trial 87 finished with value: 0.07916642925251334 and parameters: {'alpha': 98.08447784527861}. Best is trial 59 with value: 0.07916407478061059.\n",
      "[I 2025-02-28 20:06:46,428] Trial 90 finished with value: 0.07916650140305254 and parameters: {'alpha': 98.02634320145887}. Best is trial 59 with value: 0.07916407478061059.\n",
      "[I 2025-02-28 20:06:46,570] Trial 91 finished with value: 0.07916660861427734 and parameters: {'alpha': 97.93996384415681}. Best is trial 59 with value: 0.07916407478061059.\n",
      "[I 2025-02-28 20:06:46,649] Trial 92 finished with value: 0.07917046931296583 and parameters: {'alpha': 94.87368039947303}. Best is trial 59 with value: 0.07916407478061059.\n",
      "[I 2025-02-28 20:06:46,764] Trial 93 finished with value: 0.07917031064537237 and parameters: {'alpha': 94.99762045048317}. Best is trial 59 with value: 0.07916407478061059.\n",
      "[I 2025-02-28 20:06:46,822] Trial 95 finished with value: 0.07917544938848815 and parameters: {'alpha': 91.06406058351796}. Best is trial 59 with value: 0.07916407478061059.\n",
      "[I 2025-02-28 20:06:46,824] Trial 96 finished with value: 0.07917521175836097 and parameters: {'alpha': 91.24345802361336}. Best is trial 59 with value: 0.07916407478061059.\n",
      "[I 2025-02-28 20:06:46,852] Trial 97 finished with value: 0.07917032934726967 and parameters: {'alpha': 94.98301120179663}. Best is trial 59 with value: 0.07916407478061059.\n",
      "[I 2025-02-28 20:06:46,929] Trial 94 finished with value: 0.07917030502455986 and parameters: {'alpha': 95.0020112607722}. Best is trial 59 with value: 0.07916407478061059.\n",
      "[I 2025-02-28 20:06:46,934] Trial 99 finished with value: 0.07916408022736117 and parameters: {'alpha': 99.98805185227948}. Best is trial 59 with value: 0.07916407478061059.\n",
      "[I 2025-02-28 20:06:46,951] Trial 98 finished with value: 0.07917020158580924 and parameters: {'alpha': 95.08281723326019}. Best is trial 59 with value: 0.07916407478061059.\n"
     ]
    }
   ],
   "source": [
    "# optimize\n",
    "\n",
    "study.optimize(func=tune_ridge, n_trials=100, n_jobs=-1, show_progress_bar=True)"
   ]
  },
  {
   "cell_type": "code",
   "execution_count": 47,
   "id": "d7d1a265-2f90-462f-b159-daaba980dfcf",
   "metadata": {},
   "outputs": [
    {
     "data": {
      "text/plain": [
       "{'alpha': 99.99248902029561}"
      ]
     },
     "execution_count": 47,
     "metadata": {},
     "output_type": "execute_result"
    }
   ],
   "source": [
    "# best parameters\n",
    "\n",
    "study.best_params"
   ]
  },
  {
   "cell_type": "code",
   "execution_count": 48,
   "id": "13affecf-333a-4a82-bd94-c581c6b5a20b",
   "metadata": {},
   "outputs": [
    {
     "data": {
      "text/plain": [
       "0.07916407478061059"
      ]
     },
     "execution_count": 48,
     "metadata": {},
     "output_type": "execute_result"
    }
   ],
   "source": [
    "# best value\n",
    "\n",
    "study.best_value"
   ]
  },
  {
   "cell_type": "code",
   "execution_count": 49,
   "id": "26fb3aa0-48cf-4442-92a9-52e96cc4d19a",
   "metadata": {},
   "outputs": [
    {
     "name": "stdout",
     "output_type": "stream",
     "text": [
      "The training error is  0.08739324289532295\n",
      "The test error is  0.07916406556071182\n"
     ]
    }
   ],
   "source": [
    "# train the ridge regression model\n",
    "\n",
    "ridge = Ridge(alpha=100, random_state=42)\n",
    "\n",
    "ridge.fit(X_train_encoded, y_train)\n",
    "\n",
    "# get predictions\n",
    "y_pred_train = ridge.predict(X_train_encoded) \n",
    "y_pred_test = ridge.predict(X_test_encoded)\n",
    "\n",
    "# loss\n",
    "\n",
    "mape_train = mean_absolute_percentage_error(y_train, y_pred_train)\n",
    "mape_test = mean_absolute_percentage_error(y_test, y_pred_test)\n",
    "\n",
    "print(\"The training error is \", mape_train)\n",
    "print(\"The test error is \", mape_test)"
   ]
  }
 ],
 "metadata": {
  "kernelspec": {
   "display_name": "Python 3",
   "language": "python",
   "name": "python3"
  },
  "language_info": {
   "codemirror_mode": {
    "name": "ipython",
    "version": 3
   },
   "file_extension": ".py",
   "mimetype": "text/x-python",
   "name": "python",
   "nbconvert_exporter": "python",
   "pygments_lexer": "ipython3",
   "version": "3.12.7"
  }
 },
 "nbformat": 4,
 "nbformat_minor": 5
}
